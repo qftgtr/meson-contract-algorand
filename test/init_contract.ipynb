{
 "cells": [
  {
   "cell_type": "code",
   "execution_count": 35,
   "metadata": {},
   "outputs": [
    {
     "name": "stdout",
     "output_type": "stream",
     "text": [
      "Alice GZ4IJXXNRFT23E6SLUOSSUWN2LUDFQTX4F6SXF5EP27LFWTOWHPFANLYIQ Balance: 26.528993\n",
      "Bob   CIK3P7U4PZBJESWQ3XFDCZDXEZ3JZLWY6XZHY4A4KEJCA5SYYIPBT6W7Y4 Balance: 15.374008\n",
      "Carol K7ZJP3J7SYYNB42DPZMRY56X32HVTYOOZRA2ASE2IND4LSQKCL3CE2Z2YU Balance: 8.996\n"
     ]
    }
   ],
   "source": [
    "import time\n",
    "from algosdk import account, mnemonic, logic\n",
    "from algosdk.future import transaction\n",
    "from algosdk.v2client import algod, indexer\n",
    "from pyteal import compileTeal, Mode, Approve\n",
    "\n",
    "ALGOD_TOKEN = \"aaaaaaaaaaaaaaaaaaaaaaaaaaaaaaaaaaaaaaaaaaaaaaaaaaaaaaaaaaaaaaaa\"\n",
    "TESTNET_ALGOD_RPC = \"https://testnet-api.algonode.network\"\n",
    "TESTNET_INDEXER_RPC = \"https://testnet-idx.algonode.network\"\n",
    "\n",
    "algod_client = algod.AlgodClient(ALGOD_TOKEN, TESTNET_ALGOD_RPC)\n",
    "indexer_client = indexer.IndexerClient(ALGOD_TOKEN, TESTNET_INDEXER_RPC)\n",
    "sp_func = algod_client.suggested_params\n",
    "on_complete_param = transaction.OnComplete.NoOpOC\n",
    "    \n",
    "mnemonic_1 = open(\"../wallet_1\").read().replace(',', ' ')\n",
    "mnemonic_2 = open(\"../wallet_2\").read().replace(',', ' ')\n",
    "mnemonic_3 = open(\"../wallet_3\").read().replace(',', ' ')\n",
    "\n",
    "alice_private_key = mnemonic.to_private_key(mnemonic_1)\n",
    "alice_address = account.address_from_private_key(alice_private_key)\n",
    "bob_private_key = mnemonic.to_private_key(mnemonic_2)\n",
    "bob_address = account.address_from_private_key(bob_private_key)\n",
    "carol_private_key = mnemonic.to_private_key(mnemonic_3)\n",
    "carol_address = account.address_from_private_key(carol_private_key)\n",
    "\n",
    "print(\"Alice {} Balance: {}\".format(alice_address, \n",
    "                algod_client.account_info(alice_address).get('amount') / 1e6))\n",
    "print(\"Bob   {} Balance: {}\".format(bob_address, \n",
    "                algod_client.account_info(bob_address).get('amount') / 1e6))\n",
    "print(\"Carol {} Balance: {}\".format(carol_address, \n",
    "                algod_client.account_info(carol_address).get('amount') / 1e6))\n",
    "\n",
    "def submit_transaction(private_key: str, unsigned_txn: transaction.Transaction):\n",
    "    signed_txn = unsigned_txn.sign(private_key)\n",
    "    txid = algod_client.send_transaction(signed_txn)\n",
    "    print(\"Signed transaction with txID: {}\".format(txid))\n",
    "    confirmed_txn = transaction.wait_for_confirmation(algod_client, txid, 3)\n",
    "    print(\"Confirmed on round {}!\".format(confirmed_txn['confirmed-round']))\n",
    "    transaction_response = algod_client.pending_transaction_info(txid)\n",
    "    return transaction_response"
   ]
  },
  {
   "attachments": {},
   "cell_type": "markdown",
   "metadata": {},
   "source": [
    "## 1. Asset Creation and OptIn"
   ]
  },
  {
   "cell_type": "code",
   "execution_count": 2,
   "metadata": {},
   "outputs": [
    {
     "name": "stdout",
     "output_type": "stream",
     "text": [
      "Signed transaction with txID: HDWVCTCRDGV2HKW3CMSHIU7PWHAU4JLRNKUYUMSCNFDULIBJWAJQ\n",
      "Confirmed on round 27782688!\n",
      "Asset [Meson Test Circle USD] created success! Asset id: 159625952\n",
      "\n",
      "Signed transaction with txID: 4RCBMTPRPBIBHJFTIOK3FBNV3O45QKRCXJ5ZLZQQQJH7225ZJXKQ\n",
      "Confirmed on round 27782690!\n",
      "Asset [Meson Test Tether] created success! Asset id: 159625960\n",
      "\n"
     ]
    }
   ],
   "source": [
    "# Creation\n",
    "create_asset_tx = submit_transaction(alice_private_key, transaction.AssetCreateTxn(\n",
    "    alice_address, sp_func(), int(1e18), 6, False, unit_name=\"mUSDC\", asset_name=\"Meson Test Circle USD\"\n",
    "))\n",
    "usdc_index = create_asset_tx['asset-index']\n",
    "print(\"Asset [Meson Test Circle USD] created success! Asset id: %s\\n\" % usdc_index)\n",
    "\n",
    "create_asset_tx = submit_transaction(alice_private_key, transaction.AssetCreateTxn(\n",
    "    alice_address, sp_func(), int(1e18), 6, False, unit_name=\"mUSDT\", asset_name=\"Meson Test Tether\"\n",
    "))\n",
    "usdt_index = create_asset_tx['asset-index']\n",
    "print(\"Asset [Meson Test Tether] created success! Asset id: %s\\n\" % usdt_index)"
   ]
  },
  {
   "cell_type": "code",
   "execution_count": 3,
   "metadata": {},
   "outputs": [
    {
     "name": "stdout",
     "output_type": "stream",
     "text": [
      "Signed transaction with txID: KCJ2VLNWXE6DMKCWBJGMCE7X6RCKH4PD36A5OUWYYGTIXHXAPPYA\n",
      "Confirmed on round 27782694!\n",
      "Bob opt in mUSDC asset success!\n",
      "\n",
      "Signed transaction with txID: SLUQ4P2SUI6PM2LKHMRJRR7PZZSMQT4UVACD7VOMHM3X3PSAQQZA\n",
      "Confirmed on round 27782696!\n",
      "Carol opt in mUSDC asset success!\n",
      "\n",
      "Signed transaction with txID: 7BG5CZQSV6FP5WCBL5RF2VIWRDQIDUHI4I3BDQ6DBPFCBTMUHU7Q\n",
      "Confirmed on round 27782698!\n",
      "Bob opt in mUSDT asset success!\n",
      "\n",
      "Signed transaction with txID: 6PNU4UX3GM3ML5VAVE7MDNIVDJ42MKUBWZ7TZ2OWNFDZIMYUWN2Q\n",
      "Confirmed on round 27782700!\n",
      "Carol opt in mUSDT asset success!\n",
      "\n"
     ]
    }
   ],
   "source": [
    "# Optin\n",
    "submit_transaction(bob_private_key, transaction.AssetOptInTxn(\n",
    "    bob_address, sp_func(), usdc_index\n",
    ")); print(\"Bob opt in mUSDC asset success!\\n\")\n",
    "\n",
    "submit_transaction(carol_private_key, transaction.AssetOptInTxn(\n",
    "    carol_address, sp_func(), usdc_index\n",
    ")); print(\"Carol opt in mUSDC asset success!\\n\")\n",
    "\n",
    "submit_transaction(bob_private_key, transaction.AssetOptInTxn(\n",
    "    bob_address, sp_func(), usdt_index\n",
    ")); print(\"Bob opt in mUSDT asset success!\\n\")\n",
    "\n",
    "submit_transaction(carol_private_key, transaction.AssetOptInTxn(\n",
    "    carol_address, sp_func(), usdt_index\n",
    ")); print(\"Carol opt in mUSDT asset success!\\n\")"
   ]
  },
  {
   "cell_type": "code",
   "execution_count": 4,
   "metadata": {},
   "outputs": [
    {
     "name": "stdout",
     "output_type": "stream",
     "text": [
      "Signed transaction with txID: KWMUCYPTF64VAEJAZNQKUBKSIEPJNRRKZAEZ57Z5ASAW6D52K35A\n",
      "Confirmed on round 27782727!\n",
      "Bob received 2000000 mUSDC!\n",
      "Signed transaction with txID: CUIH6K6UFA6WNHVZL5TR2EX2XTS4EFVV3CS7VTQXKHBDQZ5OOUGQ\n",
      "Confirmed on round 27782729!\n",
      "Carol received 2000000 mUSDC!\n",
      "Signed transaction with txID: ZQ3FHOFPHDURLD27Q54XCJPL6BKYDNCL72GCQDMSYY43FH23TLUQ\n",
      "Confirmed on round 27782731!\n",
      "Bob received 2000000 mUSDT!\n",
      "Signed transaction with txID: FJ56KIGN5BOUHDMW6H7J5QIHFV3P6QX6CKGEST4W2ALDVFEUSWKQ\n",
      "Confirmed on round 27782733!\n",
      "Carol received 2000000 mUSDT!\n"
     ]
    }
   ],
   "source": [
    "# Transfer\n",
    "asset_amount = 2e12\n",
    "\n",
    "submit_transaction(alice_private_key, transaction.AssetTransferTxn(\n",
    "    alice_address, sp_func(), bob_address, int(asset_amount), usdc_index\n",
    ")); print(\"Bob received %d mUSDC!\" % (asset_amount / 1e6))\n",
    "\n",
    "submit_transaction(alice_private_key, transaction.AssetTransferTxn(\n",
    "    alice_address, sp_func(), carol_address, int(asset_amount), usdc_index\n",
    ")); print(\"Carol received %d mUSDC!\" % (asset_amount / 1e6))\n",
    "\n",
    "submit_transaction(alice_private_key, transaction.AssetTransferTxn(\n",
    "    alice_address, sp_func(), bob_address, int(asset_amount), usdt_index\n",
    ")); print(\"Bob received %d mUSDT!\" % (asset_amount / 1e6))\n",
    "\n",
    "submit_transaction(alice_private_key, transaction.AssetTransferTxn(\n",
    "    alice_address, sp_func(), carol_address, int(asset_amount), usdt_index\n",
    ")); print(\"Carol received %d mUSDT!\" % (asset_amount / 1e6))"
   ]
  },
  {
   "cell_type": "code",
   "execution_count": null,
   "metadata": {},
   "outputs": [],
   "source": []
  },
  {
   "attachments": {},
   "cell_type": "markdown",
   "metadata": {},
   "source": [
    "## 2. Create Contract"
   ]
  },
  {
   "cell_type": "code",
   "execution_count": 36,
   "metadata": {},
   "outputs": [],
   "source": [
    "usdc_index = 159625952\n",
    "usdt_index = 159625960\n",
    "\n",
    "import base64\n",
    "from base64 import b64encode as en64\n",
    "from base64 import b64decode as de64\n",
    "import sys\n",
    "sys.path.append('../contract')\n",
    "from typing import List\n",
    "\n",
    "def submit_transaction(private_key: str, unsigned_txn: transaction.Transaction):\n",
    "    signed_txn = unsigned_txn.sign(private_key)\n",
    "    txid = algod_client.send_transaction(signed_txn)\n",
    "    print(\"Signed transaction with txID: {}\".format(txid))\n",
    "    confirmed_txn = transaction.wait_for_confirmation(algod_client, txid, 3)\n",
    "    print(\"Confirmed on round {}!\".format(confirmed_txn['confirmed-round']))\n",
    "    transaction_response = algod_client.pending_transaction_info(txid)\n",
    "    return transaction_response\n",
    "    \n",
    "def submit_transaction_group(private_key: str, unsigned_txns: List[transaction.Transaction]):\n",
    "    gid = transaction.calculate_group_id(unsigned_txns)\n",
    "    signed_txns = []\n",
    "    for unsigned in unsigned_txns:\n",
    "        unsigned.group = gid\n",
    "        signed = unsigned.sign(private_key)\n",
    "        signed_txns.append(signed)\n",
    "    gtxid = algod_client.send_transactions(signed_txns)\n",
    "    print(\"Signed transaction group with gtxID: {}\".format(gtxid))\n",
    "    confirmed_txn = transaction.wait_for_confirmation(algod_client, gtxid, 3)\n",
    "    print(\"Confirmed on round {}!\".format(confirmed_txn['confirmed-round']))\n",
    "    transaction_response = algod_client.pending_transaction_info(gtxid)\n",
    "    return transaction_response\n",
    "\n",
    "def compile_program(client, source_code):\n",
    "    compile_response = client.compile(source_code)\n",
    "    return base64.b64decode(compile_response['result'])\n",
    "\n",
    "blank_program = compile_program(algod_client, compileTeal(\n",
    "    Approve(), Mode.Application, version=8\n",
    "))"
   ]
  },
  {
   "attachments": {},
   "cell_type": "markdown",
   "metadata": {},
   "source": [
    "### 2.1 MesonSwap"
   ]
  },
  {
   "cell_type": "code",
   "execution_count": 3,
   "metadata": {},
   "outputs": [
    {
     "name": "stdout",
     "output_type": "stream",
     "text": [
      "Signed transaction with txID: E5BX5X7LQEVZBMWJFAWKY7SUXV2RU7MSRXDPTHFZROW2TNHDPO4A\n",
      "Confirmed on round 27841520!\n",
      "Create MesonSwap success! App id: 159854507, App Address: A4VCUJKIXTWUNY2DPTLBSVGXL7OQK4QQVVGLZMKXR3OXOZPHNQW5AJ5JNQ\n",
      "\n",
      "Signed transaction with txID: TR5BKCME5HY4BQFJRC4DKQWHML34CKWQ6OGW22XNTRIO7IIRBVYA\n",
      "Confirmed on round 27841522!\n",
      "Transfer $ALGO to application address success!\n",
      "App   A4VCUJKIXTWUNY2DPTLBSVGXL7OQK4QQVVGLZMKXR3OXOZPHNQW5AJ5JNQ Balance: 0.4 $ALGO\n",
      "\n"
     ]
    }
   ],
   "source": [
    "# Create app and save some $ALGO\n",
    "from MesonSwap import mesonSwapMainFunc\n",
    "\n",
    "meson_swap = compile_program(algod_client, teal_sentences := compileTeal(\n",
    "    mesonSwapMainFunc(), Mode.Application, version=8\n",
    "))\n",
    "create_app_tx = submit_transaction(alice_private_key, transaction.ApplicationCreateTxn(\n",
    "    alice_address, sp_func(), on_complete_param, meson_swap, blank_program,\n",
    "    transaction.StateSchema(12, 0), transaction.StateSchema(4, 0)       # todo: add variable nums\n",
    "))\n",
    "print(\"Create MesonSwap success! App id: %s, App Address: %s\\n\" % (\n",
    "    mesonswap_index := create_app_tx['application-index'],\n",
    "    mesonswap_address := logic.get_application_address(mesonswap_index)\n",
    "))\n",
    "\n",
    "send_amount = 400_000\n",
    "transfer_algo_to_app_tx = submit_transaction(alice_private_key, transaction.PaymentTxn(\n",
    "    alice_address, sp_func(), mesonswap_address, send_amount,\n",
    "))\n",
    "print(\"Transfer $ALGO to application address success!\")\n",
    "print(\"App   {} Balance: {} $ALGO\\n\".format(mesonswap_address, \n",
    "                algod_client.account_info(mesonswap_address).get('amount') / 1e6))"
   ]
  },
  {
   "cell_type": "code",
   "execution_count": 4,
   "metadata": {},
   "outputs": [
    {
     "name": "stdout",
     "output_type": "stream",
     "text": [
      "Signed transaction with txID: 5EQSGZEL6Z6C5DHGIZBOEBH6XT5GHDTZE563Y5DKHI7T2E7KD4DQ\n",
      "Confirmed on round 27841524!\n",
      "Mesonswap Optin USDC success!\n",
      "\n",
      "Signed transaction with txID: BBB2HCVP2ASNF5PEQPYHUCXXK2E5XEPJ3CX3MPS72NKES7RFFR4A\n",
      "Confirmed on round 27841526!\n",
      "Mesonswap Optin USDC success!\n",
      "\n"
     ]
    }
   ],
   "source": [
    "# Add USDC and USDT\n",
    "submit_transaction(alice_private_key, transaction.ApplicationCallTxn(\n",
    "    alice_address, sp_func(), mesonswap_index, on_complete_param,\n",
    "    app_args=['addSupportToken', 1], foreign_assets=[usdc_index]\n",
    "))\n",
    "print(\"Mesonswap Optin USDC success!\\n\")\n",
    "submit_transaction(alice_private_key, transaction.ApplicationCallTxn(\n",
    "    alice_address, sp_func(), mesonswap_index, on_complete_param,\n",
    "    app_args=['addSupportToken', 2], foreign_assets=[usdt_index]\n",
    "))\n",
    "print(\"Mesonswap Optin USDT success!\\n\")"
   ]
  },
  {
   "attachments": {},
   "cell_type": "markdown",
   "metadata": {},
   "source": [
    "### 2.2 MesonPools"
   ]
  },
  {
   "cell_type": "code",
   "execution_count": 3,
   "metadata": {},
   "outputs": [
    {
     "name": "stdout",
     "output_type": "stream",
     "text": [
      "Signed transaction with txID: YNKHISODYBFHZV6BDZVSWMG743Y6MYOUFS2NLFINND3LO5R7L7AQ\n",
      "Confirmed on round 27841992!\n",
      "Create MesonPools success! App id: 159869634, App Address: KDY54KPSMQAYM6TKYRJ4SL23EZIJSIOJ7HX5ZIFD6WAUSQWWYMDXNQAGSI\n",
      "\n",
      "Signed transaction with txID: WHZJSJAXCG6J37F7DO3IE6GD6FNHOEKB2CMNH3RC4ZYY2JITBBHQ\n",
      "Confirmed on round 27841994!\n",
      "Transfer $ALGO to application address success!\n",
      "App   KDY54KPSMQAYM6TKYRJ4SL23EZIJSIOJ7HX5ZIFD6WAUSQWWYMDXNQAGSI Balance: 0.4 $ALGO\n",
      "\n"
     ]
    }
   ],
   "source": [
    "# Create app and save some $ALGO\n",
    "from MesonPools import mesonPoolsMainFunc\n",
    "\n",
    "meson_pools = compile_program(algod_client, teal_sentences := compileTeal(\n",
    "    mesonPoolsMainFunc(), Mode.Application, version=8\n",
    "))\n",
    "create_app_tx = submit_transaction(alice_private_key, transaction.ApplicationCreateTxn(\n",
    "    alice_address, sp_func(), on_complete_param, meson_pools, blank_program,\n",
    "    transaction.StateSchema(12, 0), transaction.StateSchema(4, 0)       # todo: add variable nums\n",
    "))\n",
    "print(\"Create MesonPools success! App id: %s, App Address: %s\\n\" % (\n",
    "    mesonpools_index := create_app_tx['application-index'],\n",
    "    mesonpools_address := logic.get_application_address(mesonpools_index)\n",
    "))\n",
    "\n",
    "send_amount = 400_000\n",
    "transfer_algo_to_app_tx = submit_transaction(alice_private_key, transaction.PaymentTxn(\n",
    "    alice_address, sp_func(), mesonpools_address, send_amount,\n",
    "))\n",
    "print(\"Transfer $ALGO to application address success!\")\n",
    "print(\"App   {} Balance: {} $ALGO\\n\".format(mesonpools_address, \n",
    "                algod_client.account_info(mesonpools_address).get('amount') / 1e6))"
   ]
  },
  {
   "cell_type": "code",
   "execution_count": 4,
   "metadata": {},
   "outputs": [
    {
     "name": "stdout",
     "output_type": "stream",
     "text": [
      "Signed transaction with txID: PUA656DGMQM5CJLOD2AN2FTMCIZPYOOUDEBUZPIDDPYNEKQX2QCA\n",
      "Confirmed on round 27842008!\n",
      "Mesonpools Optin USDC success!\n",
      "\n",
      "Signed transaction with txID: 6HQLVSKMAR2WCTLIDV55WFELUVAGIRBAABSU5ZNXHRK3QTJBUX4Q\n",
      "Confirmed on round 27842010!\n",
      "Mesonpools Optin USDT success!\n",
      "\n"
     ]
    }
   ],
   "source": [
    "# Add USDC and USDT\n",
    "submit_transaction(alice_private_key, transaction.ApplicationCallTxn(\n",
    "    alice_address, sp_func(), mesonpools_index, on_complete_param,\n",
    "    app_args=['addSupportToken', 1], foreign_assets=[usdc_index]\n",
    "))\n",
    "print(\"Mesonpools Optin USDC success!\\n\")\n",
    "submit_transaction(alice_private_key, transaction.ApplicationCallTxn(\n",
    "    alice_address, sp_func(), mesonpools_index, on_complete_param,\n",
    "    app_args=['addSupportToken', 2], foreign_assets=[usdt_index]\n",
    "))\n",
    "print(\"Mesonpools Optin USDT success!\\n\")"
   ]
  },
  {
   "cell_type": "code",
   "execution_count": null,
   "metadata": {},
   "outputs": [],
   "source": [
    "mesonswap_index, mesonpools_index"
   ]
  },
  {
   "cell_type": "code",
   "execution_count": null,
   "metadata": {},
   "outputs": [],
   "source": []
  },
  {
   "attachments": {},
   "cell_type": "markdown",
   "metadata": {},
   "source": [
    "## 3. LP deposit some assets"
   ]
  },
  {
   "attachments": {},
   "cell_type": "markdown",
   "metadata": {},
   "source": [
    "### 3.1 LP Opt in Meson Pools"
   ]
  },
  {
   "cell_type": "code",
   "execution_count": 10,
   "metadata": {},
   "outputs": [
    {
     "name": "stdout",
     "output_type": "stream",
     "text": [
      "Signed transaction with txID: WOE7D5QXM26SJ62CYMRET56XAE6F7CF6EQS4NJGCS4WAQGXOIJWQ\n",
      "Confirmed on round 27842249!\n",
      "LP(Bob) opt in MesonPools app success!\n"
     ]
    }
   ],
   "source": [
    "submit_transaction(bob_private_key, transaction.ApplicationOptInTxn(\n",
    "    bob_address, sp_func(), mesonpools_index\n",
    "))\n",
    "print(\"LP(Bob) opt in MesonPools app success!\")"
   ]
  },
  {
   "attachments": {},
   "cell_type": "markdown",
   "metadata": {},
   "source": [
    "### 3.2 LP Deposit"
   ]
  },
  {
   "cell_type": "code",
   "execution_count": 52,
   "metadata": {},
   "outputs": [
    {
     "name": "stdout",
     "output_type": "stream",
     "text": [
      "Signed transaction group with gtxID: WX7FDJDTNYLYORHCSKG6PQVTV237PZSGOKZVYBRWW72AVGZPAF2Q\n",
      "Confirmed on round 27842558!\n",
      "LP(Bob) deposit 120 mUSDC into MesonPools!\n",
      "\n",
      "Signed transaction group with gtxID: MX54ETW4UHK5NRY4MZACBN6TPOA4IA7QZVNDC77POFSM3YUTIVJA\n",
      "Confirmed on round 27842560!\n",
      "LP(Bob) deposit 120 mUSDT into MesonPools!\n",
      "\n",
      "LP(Bob) balance:\n",
      "Asset 159625952: 120\n",
      "Asset 159625960: 360\n"
     ]
    }
   ],
   "source": [
    "amount_deposit = 120 * 1_000_000\n",
    "\n",
    "submit_transaction_group(bob_private_key, [\n",
    "    transaction.ApplicationCallTxn(\n",
    "        bob_address, sp_func(), mesonpools_index, on_complete_param,\n",
    "        app_args=['deposit', 120_000_000],\n",
    "        foreign_assets=[usdc_index],\n",
    "    ), \n",
    "    transaction.AssetTransferTxn(\n",
    "        bob_address, sp_func(), mesonpools_address, amount_deposit, usdc_index,\n",
    "    )\n",
    "])\n",
    "print(\"LP(Bob) deposit %d mUSDC into MesonPools!\\n\" % (amount_deposit // 1e6))\n",
    "\n",
    "submit_transaction_group(bob_private_key, [\n",
    "    transaction.ApplicationCallTxn(\n",
    "        bob_address, sp_func(), mesonpools_index, on_complete_param,\n",
    "        app_args=['deposit', 120_000_000],\n",
    "        foreign_assets=[usdt_index],\n",
    "    ), \n",
    "    transaction.AssetTransferTxn(\n",
    "        bob_address, sp_func(), mesonpools_address, amount_deposit, usdt_index,\n",
    "    )\n",
    "])\n",
    "print(\"LP(Bob) deposit %d mUSDT into MesonPools!\\n\" % (amount_deposit // 1e6))\n",
    "\n",
    "returned = indexer_client.lookup_account_application_local_state(bob_address, application_id=mesonpools_index)\n",
    "balances_saved = returned['apps-local-states'][0]['key-value']\n",
    "print(\"LP(Bob) balance:\")\n",
    "for balance in balances_saved:\n",
    "    print(\"Asset %d: %d\" % (int.from_bytes(de64(balance['key'])[8:], 'big'), balance['value']['uint'] / 1e6))"
   ]
  },
  {
   "attachments": {},
   "cell_type": "markdown",
   "metadata": {},
   "source": [
    "### 3.3 LP Withdraw"
   ]
  },
  {
   "cell_type": "code",
   "execution_count": 53,
   "metadata": {},
   "outputs": [
    {
     "name": "stdout",
     "output_type": "stream",
     "text": [
      "Signed transaction with txID: LCCR3UPSGOQTEJPX5OJ3244HF5XNEVY7YZONSYJFHXBEHAIPIPFQ\n",
      "Confirmed on round 27842562!\n",
      "LP(Bob) withdraw 30 mUSDT from MesonPools!\n",
      "\n",
      "LP(Bob) balance:\n",
      "Asset 159625952: 120\n",
      "Asset 159625960: 330\n"
     ]
    }
   ],
   "source": [
    "amount_withdraw = 30 * 1_000_000\n",
    "\n",
    "submit_transaction(bob_private_key, transaction.ApplicationCallTxn(\n",
    "    bob_address, sp_func(), mesonpools_index, on_complete_param,\n",
    "    app_args=['withdraw', amount_withdraw, usdt_index],\n",
    "    foreign_assets=[usdt_index],\n",
    "))\n",
    "print(\"LP(Bob) withdraw %d mUSDT from MesonPools!\\n\" % (amount_withdraw // 1e6))\n",
    "\n",
    "returned = indexer_client.lookup_account_application_local_state(bob_address, application_id=mesonpools_index)\n",
    "balances_saved = returned['apps-local-states'][0]['key-value']\n",
    "print(\"LP(Bob) balance:\")\n",
    "for balance in balances_saved:\n",
    "    print(\"Asset %d: %d\" % (int.from_bytes(de64(balance['key'])[8:], 'big'), balance['value']['uint'] / 1e6))"
   ]
  },
  {
   "cell_type": "code",
   "execution_count": null,
   "metadata": {},
   "outputs": [],
   "source": []
  },
  {
   "attachments": {},
   "cell_type": "markdown",
   "metadata": {},
   "source": [
    "## 4. Start cross-chain swap"
   ]
  },
  {
   "attachments": {},
   "cell_type": "markdown",
   "metadata": {},
   "source": [
    "### 4.0 Build EncodedSwap"
   ]
  },
  {
   "cell_type": "code",
   "execution_count": 8,
   "metadata": {},
   "outputs": [
    {
     "data": {
      "text/plain": [
       "b'\\x01\\x00\\x02\\xfa\\xf0\\x80\\xc0\\x00\\x00\\x00\\x00\\x00\\xe7U& \\x00\\x00\\x00\\x00\\x00\\x00c\\xf1\\xab\\x95\\x01\\x1b\\x02\\x01\\x1b\\x01'"
      ]
     },
     "execution_count": 8,
     "metadata": {},
     "output_type": "execute_result"
    }
   ],
   "source": [
    "# origin format: [bytes32]\n",
    "# \\x01\\x00\\x01\\xe8H\\x00\\xc0\\x00\\x00\\x00\\x00\\x00\\xe7U& \\x00\\x00\\x00\\x00\\x00\\x00c\\xd5\\x00B#)\\x02\\x02\\xca\n",
    "# hex format [uint256, hex64]:\n",
    "# (0x)010001e84800c00000000000e755262000000000000063d5004223290202ca22\n",
    "# split values: 0x|01|0001e84800|c00000000000e7552620|0000000000|0063d50042|2329|02|02ca|22\n",
    "# split variables: 0x|version|amount|salt|fee|expireTs|outChain|outToken|inChain|inToken\n",
    "# salt[0xc0, 0b11000000] -> [(0)willTransferToContract, (1)feeWaived, -, -, (1)signNonTyped, -, -, -]\n",
    "\n",
    "def get_expire_ts(delay=90):   # default to 90 minutes\n",
    "    return int(time.time()) + 60*delay\n",
    "\n",
    "def build_encoded(amount: int, expireTs: int, outToken, inToken, \n",
    "                  salt='c00000000000e7552620', fee='0000000000', return_bytes=True):\n",
    "    assert amount < 0x1111111111\n",
    "    version = '01'\n",
    "    amount_string = hex(amount)[2:].rjust(10, '0')\n",
    "    expireTs_string = hex(expireTs)[2:].rjust(10, '0')\n",
    "    outChain = '011b'\n",
    "    inChain = '011b'\n",
    "    encoded_string = ''.join([\n",
    "        '0x', version, amount_string, salt, fee, expireTs_string, outChain, outToken, inChain, inToken\n",
    "    ])\n",
    "    return bytes.fromhex(encoded_string[2:]) if return_bytes else encoded_string\n",
    "\n",
    "'''\n",
    "ZERO_ADDRESS_STR = '00' * 32\n",
    "def build_posted(initiator, enumIndex, lp=ZERO_ADDRESS_STR, return_bytes=True):\n",
    "    assert len(initiator) == len(lp) == 64\n",
    "    posted_string = initiator + lp + enumIndex\n",
    "    return bytes.fromhex(posted_string[2:]) if return_bytes else posted_string\n",
    "'''\n",
    "\n",
    "build_encoded(50_000_000, get_expire_ts(), '02', '01')"
   ]
  },
  {
   "cell_type": "code",
   "execution_count": 4,
   "metadata": {},
   "outputs": [],
   "source": [
    "# mesonswap_index = 159776111\n",
    "# mesonswap_address = logic.get_application_address(mesonswap_index)"
   ]
  },
  {
   "attachments": {},
   "cell_type": "markdown",
   "metadata": {},
   "source": [
    "### 4.1 postSwap & bondSwap"
   ]
  },
  {
   "cell_type": "code",
   "execution_count": 16,
   "metadata": {},
   "outputs": [
    {
     "name": "stdout",
     "output_type": "stream",
     "text": [
      "Signed transaction group with gtxID: O4RC6ZJSR5N3ZCDPBIF7XPQDZPBTKHRM2M4XVEYOSG5FU65TRUMQ\n",
      "Confirmed on round 27841737!\n"
     ]
    },
    {
     "data": {
      "text/plain": [
       "{'confirmed-round': 27841737,\n",
       " 'pool-error': '',\n",
       " 'txn': {'sig': 'BjlYNsbwtju8u9IlJJEYJexFsFVENjvsD+nfAXfODNEVYzxvy7X+H4WnOdwpVsrzlr9SVxK64c5Xg/2gwMCUBw==',\n",
       "  'txn': {'apaa': ['cG9zdFN3YXA=',\n",
       "    'AQAC+vCAwAAAAAAA51UmIAAAAAAAAGPxpUIBGwIBGwE=',\n",
       "    'AAAAAAAABFc=',\n",
       "    'AAAAAAAABFc='],\n",
       "   'apbx': [{'n': 'AQAC+vCAwAAAAAAA51UmIAAAAAAAAGPxpUIBGwIBGwE='}],\n",
       "   'apid': 159854507,\n",
       "   'fee': 1000,\n",
       "   'fv': 27841735,\n",
       "   'gen': 'testnet-v1.0',\n",
       "   'gh': 'SGO1GKSzyE7IEPItTxCByw9x8FmnrCDexi9/cOUJOiI=',\n",
       "   'grp': 'LCBHhGGqY4G2+NpDjKXSfOx+h51V8rK5G6ICXKjwK8c=',\n",
       "   'lv': 27842735,\n",
       "   'snd': 'K7ZJP3J7SYYNB42DPZMRY56X32HVTYOOZRA2ASE2IND4LSQKCL3CE2Z2YU',\n",
       "   'type': 'appl'}}}"
      ]
     },
     "execution_count": 16,
     "metadata": {},
     "output_type": "execute_result"
    }
   ],
   "source": [
    "amount_transfer = 50 * 1_000_000\n",
    "encodedSwap = build_encoded(amount_transfer, get_expire_ts(), '02', '01')\n",
    "\n",
    "submit_transaction_group(carol_private_key, [\n",
    "    transaction.ApplicationCallTxn(\n",
    "        carol_address, sp_func(), mesonswap_index, on_complete_param,\n",
    "        app_args=['postSwap', encodedSwap, 1111, 1111],\n",
    "        boxes=[(mesonswap_index, encodedSwap)]\n",
    "    ),\n",
    "    transaction.AssetTransferTxn(\n",
    "        carol_address, sp_func(), mesonswap_address, amount_transfer, usdc_index\n",
    "    )\n",
    "])\n",
    "print(\"Step 1.1. User(Carol) posted swap success!\\n\")"
   ]
  },
  {
   "cell_type": "code",
   "execution_count": 28,
   "metadata": {},
   "outputs": [
    {
     "name": "stdout",
     "output_type": "stream",
     "text": [
      "Signed transaction with txID: GBUIHSHZRG4L23BV4BS6RJAAT6CZBUEUZKVV46VMKI4WZAR4X3KA\n",
      "Confirmed on round 27841895!\n",
      "Step 1.2. LP(Bob) Bonded swap success!\n"
     ]
    }
   ],
   "source": [
    "submit_transaction(bob_private_key, transaction.ApplicationCallTxn(\n",
    "    bob_address, sp_func(), mesonswap_index, on_complete_param,\n",
    "    app_args=['bondSwap', encodedSwap],\n",
    "    boxes=[(mesonswap_index, encodedSwap)]\n",
    "))\n",
    "print(\"Step 1.2. LP(Bob) Bonded swap success!\")"
   ]
  },
  {
   "cell_type": "code",
   "execution_count": null,
   "metadata": {},
   "outputs": [],
   "source": []
  },
  {
   "cell_type": "code",
   "execution_count": null,
   "metadata": {},
   "outputs": [],
   "source": []
  },
  {
   "cell_type": "code",
   "execution_count": 29,
   "metadata": {},
   "outputs": [
    {
     "name": "stdout",
     "output_type": "stream",
     "text": [
      "Mesonswap Boxes: \n",
      "[{'name': 'AQAC+vCAwAAAAAAA51UmIAAAAAAAAGPxpUIBGwIBGwE='}]\n"
     ]
    }
   ],
   "source": [
    "print(\"Mesonswap Boxes: \")\n",
    "print(algod_client.application_boxes(mesonswap_index)['boxes'])"
   ]
  },
  {
   "cell_type": "code",
   "execution_count": 30,
   "metadata": {},
   "outputs": [
    {
     "name": "stdout",
     "output_type": "stream",
     "text": [
      "010002faf080c00000000000e755262000000000000063f1a542011b02011b01 57f297ed3f9630d0f3437e591c77d7de8f59e1cecc41a0489a4347c5ca0a12f61215b7fe9c7e42924ad0ddca31647726769caed8f5f27c701c5112207658c21e01\n"
     ]
    }
   ],
   "source": [
    "key = base64.b64decode(b'AQAC+vCAwAAAAAAA51UmIAAAAAAAAGPxpUIBGwIBGwE=')\n",
    "value_return = algod_client.application_box_by_name(mesonswap_index, key)\n",
    "print(key.hex(), (value := base64.b64decode(value_return['value']).hex()))"
   ]
  },
  {
   "cell_type": "code",
   "execution_count": 37,
   "metadata": {},
   "outputs": [
    {
     "data": {
      "text/plain": [
       "b'CIK3P7U4PZBJESWQ3XFDCZDXEZ3JZLWY6XZHY4A4KEJCA5SYYIPA===='"
      ]
     },
     "execution_count": 37,
     "metadata": {},
     "output_type": "execute_result"
    }
   ],
   "source": [
    "base64.b32encode(bytes.fromhex('1215b7fe9c7e42924ad0ddca31647726769caed8f5f27c701c5112207658c21e'))"
   ]
  },
  {
   "cell_type": "code",
   "execution_count": null,
   "metadata": {},
   "outputs": [],
   "source": []
  }
 ],
 "metadata": {
  "kernelspec": {
   "display_name": "algorand",
   "language": "python",
   "name": "python3"
  },
  "language_info": {
   "codemirror_mode": {
    "name": "ipython",
    "version": 3
   },
   "file_extension": ".py",
   "mimetype": "text/x-python",
   "name": "python",
   "nbconvert_exporter": "python",
   "pygments_lexer": "ipython3",
   "version": "3.10.8"
  },
  "orig_nbformat": 4,
  "vscode": {
   "interpreter": {
    "hash": "ba3450cde5b05b5197a9eb5fde5fb055163ecc9b5ff443221fad328eb2bb5ad5"
   }
  }
 },
 "nbformat": 4,
 "nbformat_minor": 2
}
