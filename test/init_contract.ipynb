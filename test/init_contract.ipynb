{
 "cells": [
  {
   "cell_type": "code",
   "execution_count": 1,
   "metadata": {},
   "outputs": [
    {
     "name": "stdout",
     "output_type": "stream",
     "text": [
      "Alice GZ4IJXXNRFT23E6SLUOSSUWN2LUDFQTX4F6SXF5EP27LFWTOWHPFANLYIQ Balance: 28.157993\n",
      "Bob   CIK3P7U4PZBJESWQ3XFDCZDXEZ3JZLWY6XZHY4A4KEJCA5SYYIPBT6W7Y4 Balance: 15.382008\n",
      "Carol K7ZJP3J7SYYNB42DPZMRY56X32HVTYOOZRA2ASE2IND4LSQKCL3CE2Z2YU Balance: 8.998\n"
     ]
    }
   ],
   "source": [
    "from algosdk import account, mnemonic, logic\n",
    "from algosdk.future import transaction\n",
    "from algosdk.v2client import algod\n",
    "from pyteal import compileTeal, Mode, Approve\n",
    "\n",
    "ALGOD_TOKEN = \"aaaaaaaaaaaaaaaaaaaaaaaaaaaaaaaaaaaaaaaaaaaaaaaaaaaaaaaaaaaaaaaa\"\n",
    "TESTNET_ALGOD_RPC = \"https://testnet-api.algonode.network\"\n",
    "\n",
    "algod_client = algod.AlgodClient(ALGOD_TOKEN, TESTNET_ALGOD_RPC)\n",
    "sp_func = algod_client.suggested_params\n",
    "on_complete_param = transaction.OnComplete.NoOpOC\n",
    "    \n",
    "mnemonic_1 = open(\"../wallet_1\").read().replace(',', ' ')\n",
    "mnemonic_2 = open(\"../wallet_2\").read().replace(',', ' ')\n",
    "mnemonic_3 = open(\"../wallet_3\").read().replace(',', ' ')\n",
    "\n",
    "alice_private_key = mnemonic.to_private_key(mnemonic_1)\n",
    "alice_address = account.address_from_private_key(alice_private_key)\n",
    "bob_private_key = mnemonic.to_private_key(mnemonic_2)\n",
    "bob_address = account.address_from_private_key(bob_private_key)\n",
    "carol_private_key = mnemonic.to_private_key(mnemonic_3)\n",
    "carol_address = account.address_from_private_key(carol_private_key)\n",
    "\n",
    "print(\"Alice {} Balance: {}\".format(alice_address, \n",
    "                algod_client.account_info(alice_address).get('amount') / 1e6))\n",
    "print(\"Bob   {} Balance: {}\".format(bob_address, \n",
    "                algod_client.account_info(bob_address).get('amount') / 1e6))\n",
    "print(\"Carol {} Balance: {}\".format(carol_address, \n",
    "                algod_client.account_info(carol_address).get('amount') / 1e6))\n",
    "\n",
    "def submit_transaction(private_key: str, unsigned_txn: transaction.Transaction):\n",
    "    signed_txn = unsigned_txn.sign(private_key)\n",
    "    txid = algod_client.send_transaction(signed_txn)\n",
    "    print(\"Signed transaction with txID: {}\".format(txid))\n",
    "    confirmed_txn = transaction.wait_for_confirmation(algod_client, txid, 3)\n",
    "    print(\"Confirmed on round {}!\".format(confirmed_txn['confirmed-round']))\n",
    "    transaction_response = algod_client.pending_transaction_info(txid)\n",
    "    return transaction_response"
   ]
  },
  {
   "attachments": {},
   "cell_type": "markdown",
   "metadata": {},
   "source": [
    "## 1. Asset Creation and OptIn"
   ]
  },
  {
   "cell_type": "code",
   "execution_count": 2,
   "metadata": {},
   "outputs": [
    {
     "name": "stdout",
     "output_type": "stream",
     "text": [
      "Signed transaction with txID: HDWVCTCRDGV2HKW3CMSHIU7PWHAU4JLRNKUYUMSCNFDULIBJWAJQ\n",
      "Confirmed on round 27782688!\n",
      "Asset [Meson Test Circle USD] created success! Asset id: 159625952\n",
      "\n",
      "Signed transaction with txID: 4RCBMTPRPBIBHJFTIOK3FBNV3O45QKRCXJ5ZLZQQQJH7225ZJXKQ\n",
      "Confirmed on round 27782690!\n",
      "Asset [Meson Test Tether] created success! Asset id: 159625960\n",
      "\n"
     ]
    }
   ],
   "source": [
    "# Creation\n",
    "create_asset_tx = submit_transaction(alice_private_key, transaction.AssetCreateTxn(\n",
    "    alice_address, sp_func(), int(1e18), 6, False, unit_name=\"mUSDC\", asset_name=\"Meson Test Circle USD\"\n",
    "))\n",
    "usdc_index = create_asset_tx['asset-index']\n",
    "print(\"Asset [Meson Test Circle USD] created success! Asset id: %s\\n\" % usdc_index)\n",
    "\n",
    "create_asset_tx = submit_transaction(alice_private_key, transaction.AssetCreateTxn(\n",
    "    alice_address, sp_func(), int(1e18), 6, False, unit_name=\"mUSDT\", asset_name=\"Meson Test Tether\"\n",
    "))\n",
    "usdt_index = create_asset_tx['asset-index']\n",
    "print(\"Asset [Meson Test Tether] created success! Asset id: %s\\n\" % usdt_index)"
   ]
  },
  {
   "cell_type": "code",
   "execution_count": 3,
   "metadata": {},
   "outputs": [
    {
     "name": "stdout",
     "output_type": "stream",
     "text": [
      "Signed transaction with txID: KCJ2VLNWXE6DMKCWBJGMCE7X6RCKH4PD36A5OUWYYGTIXHXAPPYA\n",
      "Confirmed on round 27782694!\n",
      "Bob opt in mUSDC asset success!\n",
      "\n",
      "Signed transaction with txID: SLUQ4P2SUI6PM2LKHMRJRR7PZZSMQT4UVACD7VOMHM3X3PSAQQZA\n",
      "Confirmed on round 27782696!\n",
      "Carol opt in mUSDC asset success!\n",
      "\n",
      "Signed transaction with txID: 7BG5CZQSV6FP5WCBL5RF2VIWRDQIDUHI4I3BDQ6DBPFCBTMUHU7Q\n",
      "Confirmed on round 27782698!\n",
      "Bob opt in mUSDT asset success!\n",
      "\n",
      "Signed transaction with txID: 6PNU4UX3GM3ML5VAVE7MDNIVDJ42MKUBWZ7TZ2OWNFDZIMYUWN2Q\n",
      "Confirmed on round 27782700!\n",
      "Carol opt in mUSDT asset success!\n",
      "\n"
     ]
    }
   ],
   "source": [
    "# Optin\n",
    "submit_transaction(bob_private_key, transaction.AssetOptInTxn(\n",
    "    bob_address, sp_func(), usdc_index\n",
    ")); print(\"Bob opt in mUSDC asset success!\\n\")\n",
    "\n",
    "submit_transaction(carol_private_key, transaction.AssetOptInTxn(\n",
    "    carol_address, sp_func(), usdc_index\n",
    ")); print(\"Carol opt in mUSDC asset success!\\n\")\n",
    "\n",
    "submit_transaction(bob_private_key, transaction.AssetOptInTxn(\n",
    "    bob_address, sp_func(), usdt_index\n",
    ")); print(\"Bob opt in mUSDT asset success!\\n\")\n",
    "\n",
    "submit_transaction(carol_private_key, transaction.AssetOptInTxn(\n",
    "    carol_address, sp_func(), usdt_index\n",
    ")); print(\"Carol opt in mUSDT asset success!\\n\")"
   ]
  },
  {
   "cell_type": "code",
   "execution_count": 4,
   "metadata": {},
   "outputs": [
    {
     "name": "stdout",
     "output_type": "stream",
     "text": [
      "Signed transaction with txID: KWMUCYPTF64VAEJAZNQKUBKSIEPJNRRKZAEZ57Z5ASAW6D52K35A\n",
      "Confirmed on round 27782727!\n",
      "Bob received 2000000 mUSDC!\n",
      "Signed transaction with txID: CUIH6K6UFA6WNHVZL5TR2EX2XTS4EFVV3CS7VTQXKHBDQZ5OOUGQ\n",
      "Confirmed on round 27782729!\n",
      "Carol received 2000000 mUSDC!\n",
      "Signed transaction with txID: ZQ3FHOFPHDURLD27Q54XCJPL6BKYDNCL72GCQDMSYY43FH23TLUQ\n",
      "Confirmed on round 27782731!\n",
      "Bob received 2000000 mUSDT!\n",
      "Signed transaction with txID: FJ56KIGN5BOUHDMW6H7J5QIHFV3P6QX6CKGEST4W2ALDVFEUSWKQ\n",
      "Confirmed on round 27782733!\n",
      "Carol received 2000000 mUSDT!\n"
     ]
    }
   ],
   "source": [
    "# Transfer\n",
    "asset_amount = 2e12\n",
    "\n",
    "submit_transaction(alice_private_key, transaction.AssetTransferTxn(\n",
    "    alice_address, sp_func(), bob_address, int(asset_amount), usdc_index\n",
    ")); print(\"Bob received %d mUSDC!\" % (asset_amount / 1e6))\n",
    "\n",
    "submit_transaction(alice_private_key, transaction.AssetTransferTxn(\n",
    "    alice_address, sp_func(), carol_address, int(asset_amount), usdc_index\n",
    ")); print(\"Carol received %d mUSDC!\" % (asset_amount / 1e6))\n",
    "\n",
    "submit_transaction(alice_private_key, transaction.AssetTransferTxn(\n",
    "    alice_address, sp_func(), bob_address, int(asset_amount), usdt_index\n",
    ")); print(\"Bob received %d mUSDT!\" % (asset_amount / 1e6))\n",
    "\n",
    "submit_transaction(alice_private_key, transaction.AssetTransferTxn(\n",
    "    alice_address, sp_func(), carol_address, int(asset_amount), usdt_index\n",
    ")); print(\"Carol received %d mUSDT!\" % (asset_amount / 1e6))"
   ]
  },
  {
   "cell_type": "code",
   "execution_count": null,
   "metadata": {},
   "outputs": [],
   "source": []
  },
  {
   "attachments": {},
   "cell_type": "markdown",
   "metadata": {},
   "source": [
    "## 2. Create Contract"
   ]
  },
  {
   "cell_type": "code",
   "execution_count": 2,
   "metadata": {},
   "outputs": [],
   "source": [
    "import base64\n",
    "import sys\n",
    "sys.path.append('../contract')\n",
    "from typing import List"
   ]
  },
  {
   "cell_type": "code",
   "execution_count": 3,
   "metadata": {},
   "outputs": [],
   "source": [
    "usdc_index = 27782688\n",
    "usdt_index = 27782690\n",
    "\n",
    "def submit_transaction(private_key: str, unsigned_txn: transaction.Transaction):\n",
    "    signed_txn = unsigned_txn.sign(private_key)\n",
    "    txid = algod_client.send_transaction(signed_txn)\n",
    "    print(\"Signed transaction with txID: {}\".format(txid))\n",
    "    confirmed_txn = transaction.wait_for_confirmation(algod_client, txid, 3)\n",
    "    print(\"Confirmed on round {}!\".format(confirmed_txn['confirmed-round']))\n",
    "    transaction_response = algod_client.pending_transaction_info(txid)\n",
    "    return transaction_response\n",
    "    \n",
    "def submit_transaction_group(private_key: str, unsigned_txns: List[transaction.Transaction]):\n",
    "    gid = transaction.calculate_group_id(unsigned_txns)\n",
    "    signed_txns = []\n",
    "    for unsigned in unsigned_txns:\n",
    "        unsigned.group = gid\n",
    "        signed = unsigned.sign(private_key)\n",
    "        signed_txns.append(signed)\n",
    "    gtxid = algod_client.send_transactions(signed_txns)\n",
    "    print(\"Signed transaction group with gtxID: {}\".format(gtxid))\n",
    "    confirmed_txn = transaction.wait_for_confirmation(algod_client, gtxid, 3)\n",
    "    print(\"Confirmed on round {}!\".format(confirmed_txn['confirmed-round']))\n",
    "    transaction_response = algod_client.pending_transaction_info(gtxid)\n",
    "    return transaction_response\n",
    "\n",
    "def compile_program(client, source_code):\n",
    "    compile_response = client.compile(source_code)\n",
    "    return base64.b64decode(compile_response['result'])\n",
    "\n",
    "blank_program = compile_program(algod_client, compileTeal(\n",
    "    Approve(), Mode.Application, version=8\n",
    "))"
   ]
  },
  {
   "attachments": {},
   "cell_type": "markdown",
   "metadata": {},
   "source": [
    "### 2.1 MesonSwap"
   ]
  },
  {
   "cell_type": "code",
   "execution_count": 4,
   "metadata": {},
   "outputs": [
    {
     "name": "stdout",
     "output_type": "stream",
     "text": [
      "Signed transaction with txID: EMYKAWMXDNBGK4ZSKBYVYIFLIP2WU63UHD3IE3KZGXZH6ODIGMMA\n",
      "Confirmed on round 27801886!\n",
      "Create MesonSwap success! App id: 159695273, App Address: D44YFTAO2MIFRUAYPHCRAAH5RG2WJREOIJBGRRRAGH4PEEO7SMNHNLRKXA\n"
     ]
    }
   ],
   "source": [
    "# Creation\n",
    "from MesonSwap import mesonSwapMainFunc\n",
    "\n",
    "meson_swap = compile_program(algod_client, teal_sentences := compileTeal(\n",
    "    mesonSwapMainFunc(), Mode.Application, version=8\n",
    "))\n",
    "create_app_tx = submit_transaction(alice_private_key, transaction.ApplicationCreateTxn(\n",
    "    alice_address, sp_func(), on_complete_param, meson_swap, blank_program,\n",
    "    transaction.StateSchema(10, 0), transaction.StateSchema(5, 0)\n",
    "))\n",
    "print(\"Create MesonSwap success! App id: %s, App Address: %s\" % (\n",
    "    mesonswap_index := create_app_tx['application-index'],\n",
    "    mesonswap_address := logic.get_application_address(mesonswap_index)\n",
    "))"
   ]
  },
  {
   "cell_type": "code",
   "execution_count": null,
   "metadata": {},
   "outputs": [],
   "source": [
    "# Optin itself\n",
    "submit_transaction(alice_private_key, transaction.ApplicationOptInTxn(\n",
    "    alice_address, sp_func(), mesonswap_index\n",
    "))\n",
    "print(\"MesonSwap Optin itself success! Can add local variable now.\")"
   ]
  },
  {
   "cell_type": "code",
   "execution_count": 6,
   "metadata": {},
   "outputs": [
    {
     "ename": "AlgodHTTPError",
     "evalue": "TransactionPool.Remember: transaction N4GIDQJZJ6NCASOWE2KEE2CCGPLFD3ZYELTJ67HJLNVRP5FM74RA: logic eval error: invalid Account reference for mutation D44YFTAO2MIFRUAYPHCRAAH5RG2WJREOIJBGRRRAGH4PEEO7SMNHNLRKXA. Details: pc=767, opcodes=concat\nintc_1 // 0\napp_local_put\n",
     "output_type": "error",
     "traceback": [
      "\u001b[0;31m---------------------------------------------------------------------------\u001b[0m",
      "\u001b[0;31mHTTPError\u001b[0m                                 Traceback (most recent call last)",
      "File \u001b[0;32m~/anaconda3/envs/algorand/lib/python3.10/site-packages/algosdk/v2client/algod.py:78\u001b[0m, in \u001b[0;36mAlgodClient.algod_request\u001b[0;34m(self, method, requrl, params, data, headers, response_format)\u001b[0m\n\u001b[1;32m     77\u001b[0m \u001b[39mtry\u001b[39;00m:\n\u001b[0;32m---> 78\u001b[0m     resp \u001b[39m=\u001b[39m urlopen(req)\n\u001b[1;32m     79\u001b[0m \u001b[39mexcept\u001b[39;00m urllib\u001b[39m.\u001b[39merror\u001b[39m.\u001b[39mHTTPError \u001b[39mas\u001b[39;00m e:\n",
      "File \u001b[0;32m~/anaconda3/envs/algorand/lib/python3.10/urllib/request.py:216\u001b[0m, in \u001b[0;36murlopen\u001b[0;34m(url, data, timeout, cafile, capath, cadefault, context)\u001b[0m\n\u001b[1;32m    215\u001b[0m     opener \u001b[39m=\u001b[39m _opener\n\u001b[0;32m--> 216\u001b[0m \u001b[39mreturn\u001b[39;00m opener\u001b[39m.\u001b[39;49mopen(url, data, timeout)\n",
      "File \u001b[0;32m~/anaconda3/envs/algorand/lib/python3.10/urllib/request.py:525\u001b[0m, in \u001b[0;36mOpenerDirector.open\u001b[0;34m(self, fullurl, data, timeout)\u001b[0m\n\u001b[1;32m    524\u001b[0m     meth \u001b[39m=\u001b[39m \u001b[39mgetattr\u001b[39m(processor, meth_name)\n\u001b[0;32m--> 525\u001b[0m     response \u001b[39m=\u001b[39m meth(req, response)\n\u001b[1;32m    527\u001b[0m \u001b[39mreturn\u001b[39;00m response\n",
      "File \u001b[0;32m~/anaconda3/envs/algorand/lib/python3.10/urllib/request.py:634\u001b[0m, in \u001b[0;36mHTTPErrorProcessor.http_response\u001b[0;34m(self, request, response)\u001b[0m\n\u001b[1;32m    633\u001b[0m \u001b[39mif\u001b[39;00m \u001b[39mnot\u001b[39;00m (\u001b[39m200\u001b[39m \u001b[39m<\u001b[39m\u001b[39m=\u001b[39m code \u001b[39m<\u001b[39m \u001b[39m300\u001b[39m):\n\u001b[0;32m--> 634\u001b[0m     response \u001b[39m=\u001b[39m \u001b[39mself\u001b[39;49m\u001b[39m.\u001b[39;49mparent\u001b[39m.\u001b[39;49merror(\n\u001b[1;32m    635\u001b[0m         \u001b[39m'\u001b[39;49m\u001b[39mhttp\u001b[39;49m\u001b[39m'\u001b[39;49m, request, response, code, msg, hdrs)\n\u001b[1;32m    637\u001b[0m \u001b[39mreturn\u001b[39;00m response\n",
      "File \u001b[0;32m~/anaconda3/envs/algorand/lib/python3.10/urllib/request.py:563\u001b[0m, in \u001b[0;36mOpenerDirector.error\u001b[0;34m(self, proto, *args)\u001b[0m\n\u001b[1;32m    562\u001b[0m args \u001b[39m=\u001b[39m (\u001b[39mdict\u001b[39m, \u001b[39m'\u001b[39m\u001b[39mdefault\u001b[39m\u001b[39m'\u001b[39m, \u001b[39m'\u001b[39m\u001b[39mhttp_error_default\u001b[39m\u001b[39m'\u001b[39m) \u001b[39m+\u001b[39m orig_args\n\u001b[0;32m--> 563\u001b[0m \u001b[39mreturn\u001b[39;00m \u001b[39mself\u001b[39;49m\u001b[39m.\u001b[39;49m_call_chain(\u001b[39m*\u001b[39;49margs)\n",
      "File \u001b[0;32m~/anaconda3/envs/algorand/lib/python3.10/urllib/request.py:496\u001b[0m, in \u001b[0;36mOpenerDirector._call_chain\u001b[0;34m(self, chain, kind, meth_name, *args)\u001b[0m\n\u001b[1;32m    495\u001b[0m func \u001b[39m=\u001b[39m \u001b[39mgetattr\u001b[39m(handler, meth_name)\n\u001b[0;32m--> 496\u001b[0m result \u001b[39m=\u001b[39m func(\u001b[39m*\u001b[39;49margs)\n\u001b[1;32m    497\u001b[0m \u001b[39mif\u001b[39;00m result \u001b[39mis\u001b[39;00m \u001b[39mnot\u001b[39;00m \u001b[39mNone\u001b[39;00m:\n",
      "File \u001b[0;32m~/anaconda3/envs/algorand/lib/python3.10/urllib/request.py:643\u001b[0m, in \u001b[0;36mHTTPDefaultErrorHandler.http_error_default\u001b[0;34m(self, req, fp, code, msg, hdrs)\u001b[0m\n\u001b[1;32m    642\u001b[0m \u001b[39mdef\u001b[39;00m \u001b[39mhttp_error_default\u001b[39m(\u001b[39mself\u001b[39m, req, fp, code, msg, hdrs):\n\u001b[0;32m--> 643\u001b[0m     \u001b[39mraise\u001b[39;00m HTTPError(req\u001b[39m.\u001b[39mfull_url, code, msg, hdrs, fp)\n",
      "\u001b[0;31mHTTPError\u001b[0m: HTTP Error 400: Bad Request",
      "\nDuring handling of the above exception, another exception occurred:\n",
      "\u001b[0;31mAlgodHTTPError\u001b[0m                            Traceback (most recent call last)",
      "Cell \u001b[0;32mIn [6], line 2\u001b[0m\n\u001b[1;32m      1\u001b[0m \u001b[39m# Add USDC and USDT\u001b[39;00m\n\u001b[0;32m----> 2\u001b[0m submit_transaction(alice_private_key, transaction\u001b[39m.\u001b[39;49mApplicationCallTxn(\n\u001b[1;32m      3\u001b[0m     alice_address, sp_func(), mesonswap_index, on_complete_param,\n\u001b[1;32m      4\u001b[0m     app_args\u001b[39m=\u001b[39;49m[\u001b[39m'\u001b[39;49m\u001b[39maddSupportToken\u001b[39;49m\u001b[39m'\u001b[39;49m, usdc_index, \u001b[39m1\u001b[39;49m]\n\u001b[1;32m      5\u001b[0m ))\n",
      "Cell \u001b[0;32mIn [3], line 6\u001b[0m, in \u001b[0;36msubmit_transaction\u001b[0;34m(private_key, unsigned_txn)\u001b[0m\n\u001b[1;32m      4\u001b[0m \u001b[39mdef\u001b[39;00m \u001b[39msubmit_transaction\u001b[39m(private_key: \u001b[39mstr\u001b[39m, unsigned_txn: transaction\u001b[39m.\u001b[39mTransaction):\n\u001b[1;32m      5\u001b[0m     signed_txn \u001b[39m=\u001b[39m unsigned_txn\u001b[39m.\u001b[39msign(private_key)\n\u001b[0;32m----> 6\u001b[0m     txid \u001b[39m=\u001b[39m algod_client\u001b[39m.\u001b[39;49msend_transaction(signed_txn)\n\u001b[1;32m      7\u001b[0m     \u001b[39mprint\u001b[39m(\u001b[39m\"\u001b[39m\u001b[39mSigned transaction with txID: \u001b[39m\u001b[39m{}\u001b[39;00m\u001b[39m\"\u001b[39m\u001b[39m.\u001b[39mformat(txid))\n\u001b[1;32m      8\u001b[0m     confirmed_txn \u001b[39m=\u001b[39m transaction\u001b[39m.\u001b[39mwait_for_confirmation(algod_client, txid, \u001b[39m3\u001b[39m)\n",
      "File \u001b[0;32m~/anaconda3/envs/algorand/lib/python3.10/site-packages/algosdk/v2client/algod.py:270\u001b[0m, in \u001b[0;36mAlgodClient.send_transaction\u001b[0;34m(self, txn, **kwargs)\u001b[0m\n\u001b[1;32m    257\u001b[0m \u001b[39m\"\"\"\u001b[39;00m\n\u001b[1;32m    258\u001b[0m \u001b[39mBroadcast a signed transaction object to the network.\u001b[39;00m\n\u001b[1;32m    259\u001b[0m \n\u001b[0;32m   (...)\u001b[0m\n\u001b[1;32m    265\u001b[0m \u001b[39m    str: transaction ID\u001b[39;00m\n\u001b[1;32m    266\u001b[0m \u001b[39m\"\"\"\u001b[39;00m\n\u001b[1;32m    267\u001b[0m \u001b[39massert\u001b[39;00m \u001b[39mnot\u001b[39;00m \u001b[39misinstance\u001b[39m(\n\u001b[1;32m    268\u001b[0m     txn, future\u001b[39m.\u001b[39mtransaction\u001b[39m.\u001b[39mTransaction\n\u001b[1;32m    269\u001b[0m ), \u001b[39m\"\u001b[39m\u001b[39mAttempt to send UNSIGNED transaction \u001b[39m\u001b[39m{}\u001b[39;00m\u001b[39m\"\u001b[39m\u001b[39m.\u001b[39mformat(txn)\n\u001b[0;32m--> 270\u001b[0m \u001b[39mreturn\u001b[39;00m \u001b[39mself\u001b[39;49m\u001b[39m.\u001b[39;49msend_raw_transaction(\n\u001b[1;32m    271\u001b[0m     encoding\u001b[39m.\u001b[39;49mmsgpack_encode(txn), \u001b[39m*\u001b[39;49m\u001b[39m*\u001b[39;49mkwargs\n\u001b[1;32m    272\u001b[0m )\n",
      "File \u001b[0;32m~/anaconda3/envs/algorand/lib/python3.10/site-packages/algosdk/v2client/algod.py:293\u001b[0m, in \u001b[0;36mAlgodClient.send_raw_transaction\u001b[0;34m(self, txn, **kwargs)\u001b[0m\n\u001b[1;32m    287\u001b[0m headers \u001b[39m=\u001b[39m util\u001b[39m.\u001b[39mbuild_headers_from(\n\u001b[1;32m    288\u001b[0m     kwargs\u001b[39m.\u001b[39mget(\u001b[39m\"\u001b[39m\u001b[39mheaders\u001b[39m\u001b[39m\"\u001b[39m, \u001b[39mFalse\u001b[39;00m),\n\u001b[1;32m    289\u001b[0m     {\u001b[39m\"\u001b[39m\u001b[39mContent-Type\u001b[39m\u001b[39m\"\u001b[39m: \u001b[39m\"\u001b[39m\u001b[39mapplication/x-binary\u001b[39m\u001b[39m\"\u001b[39m},\n\u001b[1;32m    290\u001b[0m )\n\u001b[1;32m    291\u001b[0m kwargs[\u001b[39m\"\u001b[39m\u001b[39mheaders\u001b[39m\u001b[39m\"\u001b[39m] \u001b[39m=\u001b[39m headers\n\u001b[0;32m--> 293\u001b[0m \u001b[39mreturn\u001b[39;00m \u001b[39mself\u001b[39;49m\u001b[39m.\u001b[39;49malgod_request(\u001b[39m\"\u001b[39;49m\u001b[39mPOST\u001b[39;49m\u001b[39m\"\u001b[39;49m, req, data\u001b[39m=\u001b[39;49mtxn, \u001b[39m*\u001b[39;49m\u001b[39m*\u001b[39;49mkwargs)[\u001b[39m\"\u001b[39m\u001b[39mtxId\u001b[39m\u001b[39m\"\u001b[39m]\n",
      "File \u001b[0;32m~/anaconda3/envs/algorand/lib/python3.10/site-packages/algosdk/v2client/algod.py:85\u001b[0m, in \u001b[0;36mAlgodClient.algod_request\u001b[0;34m(self, method, requrl, params, data, headers, response_format)\u001b[0m\n\u001b[1;32m     83\u001b[0m         e \u001b[39m=\u001b[39m json\u001b[39m.\u001b[39mloads(e)[\u001b[39m\"\u001b[39m\u001b[39mmessage\u001b[39m\u001b[39m\"\u001b[39m]\n\u001b[1;32m     84\u001b[0m     \u001b[39mfinally\u001b[39;00m:\n\u001b[0;32m---> 85\u001b[0m         \u001b[39mraise\u001b[39;00m error\u001b[39m.\u001b[39mAlgodHTTPError(e, code)\n\u001b[1;32m     86\u001b[0m \u001b[39mif\u001b[39;00m response_format \u001b[39m==\u001b[39m \u001b[39m\"\u001b[39m\u001b[39mjson\u001b[39m\u001b[39m\"\u001b[39m:\n\u001b[1;32m     87\u001b[0m     \u001b[39mtry\u001b[39;00m:\n",
      "\u001b[0;31mAlgodHTTPError\u001b[0m: TransactionPool.Remember: transaction N4GIDQJZJ6NCASOWE2KEE2CCGPLFD3ZYELTJ67HJLNVRP5FM74RA: logic eval error: invalid Account reference for mutation D44YFTAO2MIFRUAYPHCRAAH5RG2WJREOIJBGRRRAGH4PEEO7SMNHNLRKXA. Details: pc=767, opcodes=concat\nintc_1 // 0\napp_local_put\n"
     ]
    }
   ],
   "source": [
    "# Add USDC and USDT\n",
    "submit_transaction(alice_private_key, transaction.ApplicationCallTxn(\n",
    "    alice_address, sp_func(), mesonswap_index, on_complete_param,\n",
    "    app_args=['addSupportToken', usdc_index, 1]\n",
    "))"
   ]
  },
  {
   "cell_type": "code",
   "execution_count": null,
   "metadata": {},
   "outputs": [],
   "source": []
  },
  {
   "cell_type": "code",
   "execution_count": null,
   "metadata": {},
   "outputs": [],
   "source": []
  },
  {
   "cell_type": "code",
   "execution_count": null,
   "metadata": {},
   "outputs": [],
   "source": []
  }
 ],
 "metadata": {
  "kernelspec": {
   "display_name": "algorand",
   "language": "python",
   "name": "python3"
  },
  "language_info": {
   "codemirror_mode": {
    "name": "ipython",
    "version": 3
   },
   "file_extension": ".py",
   "mimetype": "text/x-python",
   "name": "python",
   "nbconvert_exporter": "python",
   "pygments_lexer": "ipython3",
   "version": "3.10.8"
  },
  "orig_nbformat": 4,
  "vscode": {
   "interpreter": {
    "hash": "ba3450cde5b05b5197a9eb5fde5fb055163ecc9b5ff443221fad328eb2bb5ad5"
   }
  }
 },
 "nbformat": 4,
 "nbformat_minor": 2
}
