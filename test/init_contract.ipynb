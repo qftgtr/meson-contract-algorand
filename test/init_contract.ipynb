{
 "cells": [
  {
   "cell_type": "code",
   "execution_count": 1,
   "metadata": {},
   "outputs": [
    {
     "name": "stdout",
     "output_type": "stream",
     "text": [
      "Alice GZ4IJXXNRFT23E6SLUOSSUWN2LUDFQTX4F6SXF5EP27LFWTOWHPFANLYIQ Balance: 27.336993\n",
      "Bob   CIK3P7U4PZBJESWQ3XFDCZDXEZ3JZLWY6XZHY4A4KEJCA5SYYIPBT6W7Y4 Balance: 15.382008\n",
      "Carol K7ZJP3J7SYYNB42DPZMRY56X32HVTYOOZRA2ASE2IND4LSQKCL3CE2Z2YU Balance: 8.998\n"
     ]
    }
   ],
   "source": [
    "import time\n",
    "from algosdk import account, mnemonic, logic\n",
    "from algosdk.future import transaction\n",
    "from algosdk.v2client import algod\n",
    "from pyteal import compileTeal, Mode, Approve\n",
    "\n",
    "ALGOD_TOKEN = \"aaaaaaaaaaaaaaaaaaaaaaaaaaaaaaaaaaaaaaaaaaaaaaaaaaaaaaaaaaaaaaaa\"\n",
    "TESTNET_ALGOD_RPC = \"https://testnet-api.algonode.network\"\n",
    "\n",
    "algod_client = algod.AlgodClient(ALGOD_TOKEN, TESTNET_ALGOD_RPC)\n",
    "sp_func = algod_client.suggested_params\n",
    "on_complete_param = transaction.OnComplete.NoOpOC\n",
    "    \n",
    "mnemonic_1 = open(\"../wallet_1\").read().replace(',', ' ')\n",
    "mnemonic_2 = open(\"../wallet_2\").read().replace(',', ' ')\n",
    "mnemonic_3 = open(\"../wallet_3\").read().replace(',', ' ')\n",
    "\n",
    "alice_private_key = mnemonic.to_private_key(mnemonic_1)\n",
    "alice_address = account.address_from_private_key(alice_private_key)\n",
    "bob_private_key = mnemonic.to_private_key(mnemonic_2)\n",
    "bob_address = account.address_from_private_key(bob_private_key)\n",
    "carol_private_key = mnemonic.to_private_key(mnemonic_3)\n",
    "carol_address = account.address_from_private_key(carol_private_key)\n",
    "\n",
    "print(\"Alice {} Balance: {}\".format(alice_address, \n",
    "                algod_client.account_info(alice_address).get('amount') / 1e6))\n",
    "print(\"Bob   {} Balance: {}\".format(bob_address, \n",
    "                algod_client.account_info(bob_address).get('amount') / 1e6))\n",
    "print(\"Carol {} Balance: {}\".format(carol_address, \n",
    "                algod_client.account_info(carol_address).get('amount') / 1e6))\n",
    "\n",
    "def submit_transaction(private_key: str, unsigned_txn: transaction.Transaction):\n",
    "    signed_txn = unsigned_txn.sign(private_key)\n",
    "    txid = algod_client.send_transaction(signed_txn)\n",
    "    print(\"Signed transaction with txID: {}\".format(txid))\n",
    "    confirmed_txn = transaction.wait_for_confirmation(algod_client, txid, 3)\n",
    "    print(\"Confirmed on round {}!\".format(confirmed_txn['confirmed-round']))\n",
    "    transaction_response = algod_client.pending_transaction_info(txid)\n",
    "    return transaction_response"
   ]
  },
  {
   "attachments": {},
   "cell_type": "markdown",
   "metadata": {},
   "source": [
    "## 1. Asset Creation and OptIn"
   ]
  },
  {
   "cell_type": "code",
   "execution_count": 2,
   "metadata": {},
   "outputs": [
    {
     "name": "stdout",
     "output_type": "stream",
     "text": [
      "Signed transaction with txID: HDWVCTCRDGV2HKW3CMSHIU7PWHAU4JLRNKUYUMSCNFDULIBJWAJQ\n",
      "Confirmed on round 27782688!\n",
      "Asset [Meson Test Circle USD] created success! Asset id: 159625952\n",
      "\n",
      "Signed transaction with txID: 4RCBMTPRPBIBHJFTIOK3FBNV3O45QKRCXJ5ZLZQQQJH7225ZJXKQ\n",
      "Confirmed on round 27782690!\n",
      "Asset [Meson Test Tether] created success! Asset id: 159625960\n",
      "\n"
     ]
    }
   ],
   "source": [
    "# Creation\n",
    "create_asset_tx = submit_transaction(alice_private_key, transaction.AssetCreateTxn(\n",
    "    alice_address, sp_func(), int(1e18), 6, False, unit_name=\"mUSDC\", asset_name=\"Meson Test Circle USD\"\n",
    "))\n",
    "usdc_index = create_asset_tx['asset-index']\n",
    "print(\"Asset [Meson Test Circle USD] created success! Asset id: %s\\n\" % usdc_index)\n",
    "\n",
    "create_asset_tx = submit_transaction(alice_private_key, transaction.AssetCreateTxn(\n",
    "    alice_address, sp_func(), int(1e18), 6, False, unit_name=\"mUSDT\", asset_name=\"Meson Test Tether\"\n",
    "))\n",
    "usdt_index = create_asset_tx['asset-index']\n",
    "print(\"Asset [Meson Test Tether] created success! Asset id: %s\\n\" % usdt_index)"
   ]
  },
  {
   "cell_type": "code",
   "execution_count": 3,
   "metadata": {},
   "outputs": [
    {
     "name": "stdout",
     "output_type": "stream",
     "text": [
      "Signed transaction with txID: KCJ2VLNWXE6DMKCWBJGMCE7X6RCKH4PD36A5OUWYYGTIXHXAPPYA\n",
      "Confirmed on round 27782694!\n",
      "Bob opt in mUSDC asset success!\n",
      "\n",
      "Signed transaction with txID: SLUQ4P2SUI6PM2LKHMRJRR7PZZSMQT4UVACD7VOMHM3X3PSAQQZA\n",
      "Confirmed on round 27782696!\n",
      "Carol opt in mUSDC asset success!\n",
      "\n",
      "Signed transaction with txID: 7BG5CZQSV6FP5WCBL5RF2VIWRDQIDUHI4I3BDQ6DBPFCBTMUHU7Q\n",
      "Confirmed on round 27782698!\n",
      "Bob opt in mUSDT asset success!\n",
      "\n",
      "Signed transaction with txID: 6PNU4UX3GM3ML5VAVE7MDNIVDJ42MKUBWZ7TZ2OWNFDZIMYUWN2Q\n",
      "Confirmed on round 27782700!\n",
      "Carol opt in mUSDT asset success!\n",
      "\n"
     ]
    }
   ],
   "source": [
    "# Optin\n",
    "submit_transaction(bob_private_key, transaction.AssetOptInTxn(\n",
    "    bob_address, sp_func(), usdc_index\n",
    ")); print(\"Bob opt in mUSDC asset success!\\n\")\n",
    "\n",
    "submit_transaction(carol_private_key, transaction.AssetOptInTxn(\n",
    "    carol_address, sp_func(), usdc_index\n",
    ")); print(\"Carol opt in mUSDC asset success!\\n\")\n",
    "\n",
    "submit_transaction(bob_private_key, transaction.AssetOptInTxn(\n",
    "    bob_address, sp_func(), usdt_index\n",
    ")); print(\"Bob opt in mUSDT asset success!\\n\")\n",
    "\n",
    "submit_transaction(carol_private_key, transaction.AssetOptInTxn(\n",
    "    carol_address, sp_func(), usdt_index\n",
    ")); print(\"Carol opt in mUSDT asset success!\\n\")"
   ]
  },
  {
   "cell_type": "code",
   "execution_count": 4,
   "metadata": {},
   "outputs": [
    {
     "name": "stdout",
     "output_type": "stream",
     "text": [
      "Signed transaction with txID: KWMUCYPTF64VAEJAZNQKUBKSIEPJNRRKZAEZ57Z5ASAW6D52K35A\n",
      "Confirmed on round 27782727!\n",
      "Bob received 2000000 mUSDC!\n",
      "Signed transaction with txID: CUIH6K6UFA6WNHVZL5TR2EX2XTS4EFVV3CS7VTQXKHBDQZ5OOUGQ\n",
      "Confirmed on round 27782729!\n",
      "Carol received 2000000 mUSDC!\n",
      "Signed transaction with txID: ZQ3FHOFPHDURLD27Q54XCJPL6BKYDNCL72GCQDMSYY43FH23TLUQ\n",
      "Confirmed on round 27782731!\n",
      "Bob received 2000000 mUSDT!\n",
      "Signed transaction with txID: FJ56KIGN5BOUHDMW6H7J5QIHFV3P6QX6CKGEST4W2ALDVFEUSWKQ\n",
      "Confirmed on round 27782733!\n",
      "Carol received 2000000 mUSDT!\n"
     ]
    }
   ],
   "source": [
    "# Transfer\n",
    "asset_amount = 2e12\n",
    "\n",
    "submit_transaction(alice_private_key, transaction.AssetTransferTxn(\n",
    "    alice_address, sp_func(), bob_address, int(asset_amount), usdc_index\n",
    ")); print(\"Bob received %d mUSDC!\" % (asset_amount / 1e6))\n",
    "\n",
    "submit_transaction(alice_private_key, transaction.AssetTransferTxn(\n",
    "    alice_address, sp_func(), carol_address, int(asset_amount), usdc_index\n",
    ")); print(\"Carol received %d mUSDC!\" % (asset_amount / 1e6))\n",
    "\n",
    "submit_transaction(alice_private_key, transaction.AssetTransferTxn(\n",
    "    alice_address, sp_func(), bob_address, int(asset_amount), usdt_index\n",
    ")); print(\"Bob received %d mUSDT!\" % (asset_amount / 1e6))\n",
    "\n",
    "submit_transaction(alice_private_key, transaction.AssetTransferTxn(\n",
    "    alice_address, sp_func(), carol_address, int(asset_amount), usdt_index\n",
    ")); print(\"Carol received %d mUSDT!\" % (asset_amount / 1e6))"
   ]
  },
  {
   "cell_type": "code",
   "execution_count": null,
   "metadata": {},
   "outputs": [],
   "source": []
  },
  {
   "attachments": {},
   "cell_type": "markdown",
   "metadata": {},
   "source": [
    "## 2. Create Contract"
   ]
  },
  {
   "cell_type": "code",
   "execution_count": 2,
   "metadata": {},
   "outputs": [],
   "source": [
    "usdc_index = 159625952\n",
    "usdt_index = 159625960\n",
    "\n",
    "import base64\n",
    "import sys\n",
    "sys.path.append('../contract')\n",
    "from typing import List\n",
    "\n",
    "def submit_transaction(private_key: str, unsigned_txn: transaction.Transaction):\n",
    "    signed_txn = unsigned_txn.sign(private_key)\n",
    "    txid = algod_client.send_transaction(signed_txn)\n",
    "    print(\"Signed transaction with txID: {}\".format(txid))\n",
    "    confirmed_txn = transaction.wait_for_confirmation(algod_client, txid, 3)\n",
    "    print(\"Confirmed on round {}!\".format(confirmed_txn['confirmed-round']))\n",
    "    transaction_response = algod_client.pending_transaction_info(txid)\n",
    "    return transaction_response\n",
    "    \n",
    "def submit_transaction_group(private_key: str, unsigned_txns: List[transaction.Transaction]):\n",
    "    gid = transaction.calculate_group_id(unsigned_txns)\n",
    "    signed_txns = []\n",
    "    for unsigned in unsigned_txns:\n",
    "        unsigned.group = gid\n",
    "        signed = unsigned.sign(private_key)\n",
    "        signed_txns.append(signed)\n",
    "    gtxid = algod_client.send_transactions(signed_txns)\n",
    "    print(\"Signed transaction group with gtxID: {}\".format(gtxid))\n",
    "    confirmed_txn = transaction.wait_for_confirmation(algod_client, gtxid, 3)\n",
    "    print(\"Confirmed on round {}!\".format(confirmed_txn['confirmed-round']))\n",
    "    transaction_response = algod_client.pending_transaction_info(gtxid)\n",
    "    return transaction_response\n",
    "\n",
    "def compile_program(client, source_code):\n",
    "    compile_response = client.compile(source_code)\n",
    "    return base64.b64decode(compile_response['result'])\n",
    "\n",
    "blank_program = compile_program(algod_client, compileTeal(\n",
    "    Approve(), Mode.Application, version=8\n",
    "))"
   ]
  },
  {
   "attachments": {},
   "cell_type": "markdown",
   "metadata": {},
   "source": [
    "### 2.1 MesonSwap"
   ]
  },
  {
   "cell_type": "code",
   "execution_count": 3,
   "metadata": {},
   "outputs": [
    {
     "name": "stdout",
     "output_type": "stream",
     "text": [
      "Signed transaction with txID: 6ERGLFMHSDJNBMAFUI4O7FEUG2ZZIQM5AIUJMT7JNTCVG3IQSQLA\n",
      "Confirmed on round 27828286!\n",
      "Create MesonSwap success! App id: 159776111, App Address: U557NUVEZ7A46TLXWFY3TEGZKUFJGYK3WARKDZG7EE4PKJHP3P44RXTIWE\n",
      "Signed transaction with txID: WQGRNDDKGCQCIWKRJSAVSXKCPFOPCTQNCPWRK4SGY6HE5UIQVWGQ\n",
      "Confirmed on round 27828288!\n",
      "Transfer $ALGO to application address success!\n",
      "App   U557NUVEZ7A46TLXWFY3TEGZKUFJGYK3WARKDZG7EE4PKJHP3P44RXTIWE Balance: 0.4 $ALGO\n",
      "\n"
     ]
    }
   ],
   "source": [
    "# Create app and save some $ALGO\n",
    "from MesonSwap import mesonSwapMainFunc\n",
    "\n",
    "meson_swap = compile_program(algod_client, teal_sentences := compileTeal(\n",
    "    mesonSwapMainFunc(), Mode.Application, version=8\n",
    "))\n",
    "create_app_tx = submit_transaction(alice_private_key, transaction.ApplicationCreateTxn(\n",
    "    alice_address, sp_func(), on_complete_param, meson_swap, blank_program,\n",
    "    transaction.StateSchema(12, 0), transaction.StateSchema(4, 0)       # todo: add variable nums\n",
    "))\n",
    "print(\"Create MesonSwap success! App id: %s, App Address: %s\\n\" % (\n",
    "    mesonswap_index := create_app_tx['application-index'],\n",
    "    mesonswap_address := logic.get_application_address(mesonswap_index)\n",
    "))\n",
    "\n",
    "send_amount = 400_000\n",
    "transfer_algo_to_app_tx = submit_transaction(alice_private_key, transaction.PaymentTxn(\n",
    "    alice_address, sp_func(), mesonswap_address, send_amount,\n",
    "))\n",
    "print(\"Transfer $ALGO to application address success!\")\n",
    "print(\"App   {} Balance: {} $ALGO\\n\".format(mesonswap_address, \n",
    "                algod_client.account_info(mesonswap_address).get('amount') / 1e6))"
   ]
  },
  {
   "cell_type": "code",
   "execution_count": 5,
   "metadata": {},
   "outputs": [
    {
     "name": "stdout",
     "output_type": "stream",
     "text": [
      "Signed transaction with txID: N75HFNGO3ZLLTMXESIRJI3MGVVOKWCSEPQTI466YXKX3OVHKQFRQ\n",
      "Confirmed on round 27828308!\n",
      "Mesonswap Optin USDC success!\n",
      "\n"
     ]
    }
   ],
   "source": [
    "# Add USDC and USDT\n",
    "submit_transaction(alice_private_key, transaction.ApplicationCallTxn(\n",
    "    alice_address, sp_func(), mesonswap_index, on_complete_param,\n",
    "    app_args=['addSupportToken', 1], foreign_assets=[usdc_index]\n",
    "))\n",
    "print(\"Mesonswap Optin USDC success!\\n\")\n",
    "submit_transaction(alice_private_key, transaction.ApplicationCallTxn(\n",
    "    alice_address, sp_func(), mesonswap_index, on_complete_param,\n",
    "    app_args=['addSupportToken', 2], foreign_assets=[usdt_index]\n",
    "))\n",
    "print(\"Mesonswap Optin USDC success!\\n\")"
   ]
  },
  {
   "cell_type": "code",
   "execution_count": null,
   "metadata": {},
   "outputs": [],
   "source": []
  },
  {
   "attachments": {},
   "cell_type": "markdown",
   "metadata": {},
   "source": [
    "## 3. LP deposit some assets"
   ]
  },
  {
   "cell_type": "code",
   "execution_count": null,
   "metadata": {},
   "outputs": [],
   "source": []
  },
  {
   "cell_type": "code",
   "execution_count": null,
   "metadata": {},
   "outputs": [],
   "source": []
  },
  {
   "attachments": {},
   "cell_type": "markdown",
   "metadata": {},
   "source": [
    "## 4. Start cross-chain swap"
   ]
  },
  {
   "attachments": {},
   "cell_type": "markdown",
   "metadata": {},
   "source": [
    "### 4.0 Build EncodedSwap"
   ]
  },
  {
   "cell_type": "code",
   "execution_count": 7,
   "metadata": {},
   "outputs": [
    {
     "data": {
      "text/plain": [
       "b'\\x01\\x00\\x02\\xfa\\xf0\\x80\\xc0\\x00\\x00\\x00\\x00\\x00\\xe7U& \\x00\\x00\\x00\\x00\\x00\\x00c\\xf1\\x9eX\\x01\\x1b\\x02\\x01\\x1b\\x01'"
      ]
     },
     "execution_count": 7,
     "metadata": {},
     "output_type": "execute_result"
    }
   ],
   "source": [
    "# origin format: [bytes32]\n",
    "# \\x01\\x00\\x01\\xe8H\\x00\\xc0\\x00\\x00\\x00\\x00\\x00\\xe7U& \\x00\\x00\\x00\\x00\\x00\\x00c\\xd5\\x00B#)\\x02\\x02\\xca\n",
    "# hex format [uint256, hex64]:\n",
    "# (0x)010001e84800c00000000000e755262000000000000063d5004223290202ca22\n",
    "# split values: 0x|01|0001e84800|c00000000000e7552620|0000000000|0063d50042|2329|02|02ca|22\n",
    "# split variables: 0x|version|amount|salt|fee|expireTs|outChain|outToken|inChain|inToken\n",
    "# salt[0xc0, 0b11000000] -> [(0)willTransferToContract, (1)feeWaived, -, -, (1)signNonTyped, -, -, -]\n",
    "\n",
    "ZERO_ADDRESS_STR = '00' * 32\n",
    "\n",
    "def get_expire_ts(delay=90):   # default to 90 minutes\n",
    "    return int(time.time()) + 60*delay\n",
    "\n",
    "def build_encoded(amount: int, expireTs: int, outToken, inToken, \n",
    "                  salt='c00000000000e7552620', fee='0000000000', return_bytes=True):\n",
    "    assert amount < 0x1111111111 / 1e6\n",
    "    version = '01'\n",
    "    amount_string = hex(amount * 1_000_000)[2:].rjust(10, '0')\n",
    "    expireTs_string = hex(expireTs)[2:].rjust(10, '0')\n",
    "    outChain = '011b'\n",
    "    inChain = '011b'\n",
    "    encoded_string = ''.join([\n",
    "        '0x', version, amount_string, salt, fee, expireTs_string, outChain, outToken, inChain, inToken\n",
    "    ])\n",
    "    return bytes.fromhex(encoded_string[2:]) if return_bytes else encoded_string\n",
    "\n",
    "def build_posted(initiator, enumIndex, lp=ZERO_ADDRESS_STR, return_bytes=True):\n",
    "    assert len(initiator) == len(lp) == 64\n",
    "    posted_string = initiator + lp + enumIndex\n",
    "    return bytes.fromhex(posted_string[2:]) if return_bytes else posted_string\n",
    "\n",
    "\n",
    "\n",
    "build_encoded(50, get_expire_ts(), '02', '01')\n",
    "build_posted(carol_address)"
   ]
  },
  {
   "cell_type": "code",
   "execution_count": 19,
   "metadata": {},
   "outputs": [
    {
     "data": {
      "text/plain": [
       "'K7ZJP3J7SYYNB42DPZMRY56X32HVTYOOZRA2ASE2IND4LSQKCL3CE2Z2YU'"
      ]
     },
     "execution_count": 19,
     "metadata": {},
     "output_type": "execute_result"
    }
   ],
   "source": [
    "carol_address"
   ]
  },
  {
   "cell_type": "code",
   "execution_count": 4,
   "metadata": {},
   "outputs": [],
   "source": [
    "mesonswap_index = 159776111\n",
    "mesonswap_address = logic.get_application_address(mesonswap_index)"
   ]
  },
  {
   "attachments": {},
   "cell_type": "markdown",
   "metadata": {},
   "source": [
    "### 4.1 postSwap & bondSwap"
   ]
  },
  {
   "cell_type": "code",
   "execution_count": null,
   "metadata": {},
   "outputs": [],
   "source": [
    "submit_transaction_group(carol_private_key, [\n",
    "    transaction.ApplicationCallTxn(\n",
    "        carol_address, sp_func(), mesonswap_index, on_complete_param,\n",
    "        \n",
    "    )\n",
    "])"
   ]
  },
  {
   "cell_type": "code",
   "execution_count": null,
   "metadata": {},
   "outputs": [],
   "source": []
  },
  {
   "cell_type": "code",
   "execution_count": null,
   "metadata": {},
   "outputs": [],
   "source": []
  }
 ],
 "metadata": {
  "kernelspec": {
   "display_name": "algorand",
   "language": "python",
   "name": "python3"
  },
  "language_info": {
   "codemirror_mode": {
    "name": "ipython",
    "version": 3
   },
   "file_extension": ".py",
   "mimetype": "text/x-python",
   "name": "python",
   "nbconvert_exporter": "python",
   "pygments_lexer": "ipython3",
   "version": "3.10.8"
  },
  "orig_nbformat": 4,
  "vscode": {
   "interpreter": {
    "hash": "ba3450cde5b05b5197a9eb5fde5fb055163ecc9b5ff443221fad328eb2bb5ad5"
   }
  }
 },
 "nbformat": 4,
 "nbformat_minor": 2
}
