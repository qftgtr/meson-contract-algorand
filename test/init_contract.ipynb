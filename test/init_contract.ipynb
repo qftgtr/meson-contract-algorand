{
 "cells": [
  {
   "cell_type": "code",
   "execution_count": 1,
   "metadata": {},
   "outputs": [
    {
     "name": "stdout",
     "output_type": "stream",
     "text": [
      "Alice GZ4IJXXNRFT23E6SLUOSSUWN2LUDFQTX4F6SXF5EP27LFWTOWHPFANLYIQ Balance: 24.915993\n",
      "Bob   CIK3P7U4PZBJESWQ3XFDCZDXEZ3JZLWY6XZHY4A4KEJCA5SYYIPBT6W7Y4 Balance: 15.349008\n",
      "Carol K7ZJP3J7SYYNB42DPZMRY56X32HVTYOOZRA2ASE2IND4LSQKCL3CE2Z2YU Balance: 8.991\n"
     ]
    }
   ],
   "source": [
    "import time\n",
    "import pandas as pd\n",
    "from algosdk import account, mnemonic, logic\n",
    "from algosdk.future import transaction\n",
    "from algosdk.v2client import algod, indexer\n",
    "from pyteal import compileTeal, Mode, Approve\n",
    "\n",
    "ALGOD_TOKEN = \"aaaaaaaaaaaaaaaaaaaaaaaaaaaaaaaaaaaaaaaaaaaaaaaaaaaaaaaaaaaaaaaa\"\n",
    "TESTNET_ALGOD_RPC = \"https://testnet-api.algonode.network\"\n",
    "TESTNET_INDEXER_RPC = \"https://testnet-idx.algonode.network\"\n",
    "\n",
    "algod_client = algod.AlgodClient(ALGOD_TOKEN, TESTNET_ALGOD_RPC)\n",
    "indexer_client = indexer.IndexerClient(ALGOD_TOKEN, TESTNET_INDEXER_RPC)\n",
    "sp_func = algod_client.suggested_params\n",
    "on_complete_param = transaction.OnComplete.NoOpOC\n",
    "    \n",
    "mnemonic_1 = open(\"../wallet_1\").read().replace(',', ' ')\n",
    "mnemonic_2 = open(\"../wallet_2\").read().replace(',', ' ')\n",
    "mnemonic_3 = open(\"../wallet_3\").read().replace(',', ' ')\n",
    "\n",
    "alice_private_key = mnemonic.to_private_key(mnemonic_1)\n",
    "alice_address = account.address_from_private_key(alice_private_key)\n",
    "bob_private_key = mnemonic.to_private_key(mnemonic_2)\n",
    "bob_address = account.address_from_private_key(bob_private_key)\n",
    "carol_private_key = mnemonic.to_private_key(mnemonic_3)\n",
    "carol_address = account.address_from_private_key(carol_private_key)\n",
    "\n",
    "print(\"Alice {} Balance: {}\".format(alice_address, \n",
    "                algod_client.account_info(alice_address).get('amount') / 1e6))\n",
    "print(\"Bob   {} Balance: {}\".format(bob_address, \n",
    "                algod_client.account_info(bob_address).get('amount') / 1e6))\n",
    "print(\"Carol {} Balance: {}\".format(carol_address, \n",
    "                algod_client.account_info(carol_address).get('amount') / 1e6))\n",
    "\n",
    "def submit_transaction(private_key: str, unsigned_txn: transaction.Transaction):\n",
    "    signed_txn = unsigned_txn.sign(private_key)\n",
    "    txid = algod_client.send_transaction(signed_txn)\n",
    "    print(\"Signed transaction with txID: {}\".format(txid))\n",
    "    confirmed_txn = transaction.wait_for_confirmation(algod_client, txid, 3)\n",
    "    print(\"Confirmed on round {}!\".format(confirmed_txn['confirmed-round']))\n",
    "    transaction_response = algod_client.pending_transaction_info(txid)\n",
    "    return transaction_response"
   ]
  },
  {
   "attachments": {},
   "cell_type": "markdown",
   "metadata": {},
   "source": [
    "## 1. Asset Creation and OptIn"
   ]
  },
  {
   "cell_type": "code",
   "execution_count": null,
   "metadata": {},
   "outputs": [],
   "source": [
    "# Creation\n",
    "create_asset_tx = submit_transaction(alice_private_key, transaction.AssetCreateTxn(\n",
    "    alice_address, sp_func(), int(1e18), 6, False, unit_name=\"mUSDC\", asset_name=\"Meson Test Circle USD\"\n",
    "))\n",
    "usdc_index = create_asset_tx['asset-index']\n",
    "print(\"Asset [Meson Test Circle USD] created success! Asset id: %s\\n\" % usdc_index)\n",
    "\n",
    "create_asset_tx = submit_transaction(alice_private_key, transaction.AssetCreateTxn(\n",
    "    alice_address, sp_func(), int(1e18), 6, False, unit_name=\"mUSDT\", asset_name=\"Meson Test Tether\"\n",
    "))\n",
    "usdt_index = create_asset_tx['asset-index']\n",
    "print(\"Asset [Meson Test Tether] created success! Asset id: %s\\n\" % usdt_index)"
   ]
  },
  {
   "cell_type": "code",
   "execution_count": 3,
   "metadata": {},
   "outputs": [
    {
     "name": "stdout",
     "output_type": "stream",
     "text": [
      "Signed transaction with txID: KCJ2VLNWXE6DMKCWBJGMCE7X6RCKH4PD36A5OUWYYGTIXHXAPPYA\n",
      "Confirmed on round 27782694!\n",
      "Bob opt in mUSDC asset success!\n",
      "\n",
      "Signed transaction with txID: SLUQ4P2SUI6PM2LKHMRJRR7PZZSMQT4UVACD7VOMHM3X3PSAQQZA\n",
      "Confirmed on round 27782696!\n",
      "Carol opt in mUSDC asset success!\n",
      "\n",
      "Signed transaction with txID: 7BG5CZQSV6FP5WCBL5RF2VIWRDQIDUHI4I3BDQ6DBPFCBTMUHU7Q\n",
      "Confirmed on round 27782698!\n",
      "Bob opt in mUSDT asset success!\n",
      "\n",
      "Signed transaction with txID: 6PNU4UX3GM3ML5VAVE7MDNIVDJ42MKUBWZ7TZ2OWNFDZIMYUWN2Q\n",
      "Confirmed on round 27782700!\n",
      "Carol opt in mUSDT asset success!\n",
      "\n"
     ]
    }
   ],
   "source": [
    "# Optin\n",
    "submit_transaction(bob_private_key, transaction.AssetOptInTxn(\n",
    "    bob_address, sp_func(), usdc_index\n",
    ")); print(\"Bob opt in mUSDC asset success!\\n\")\n",
    "\n",
    "submit_transaction(carol_private_key, transaction.AssetOptInTxn(\n",
    "    carol_address, sp_func(), usdc_index\n",
    ")); print(\"Carol opt in mUSDC asset success!\\n\")\n",
    "\n",
    "submit_transaction(bob_private_key, transaction.AssetOptInTxn(\n",
    "    bob_address, sp_func(), usdt_index\n",
    ")); print(\"Bob opt in mUSDT asset success!\\n\")\n",
    "\n",
    "submit_transaction(carol_private_key, transaction.AssetOptInTxn(\n",
    "    carol_address, sp_func(), usdt_index\n",
    ")); print(\"Carol opt in mUSDT asset success!\\n\")"
   ]
  },
  {
   "cell_type": "code",
   "execution_count": 4,
   "metadata": {},
   "outputs": [
    {
     "name": "stdout",
     "output_type": "stream",
     "text": [
      "Signed transaction with txID: KWMUCYPTF64VAEJAZNQKUBKSIEPJNRRKZAEZ57Z5ASAW6D52K35A\n",
      "Confirmed on round 27782727!\n",
      "Bob received 2000000 mUSDC!\n",
      "Signed transaction with txID: CUIH6K6UFA6WNHVZL5TR2EX2XTS4EFVV3CS7VTQXKHBDQZ5OOUGQ\n",
      "Confirmed on round 27782729!\n",
      "Carol received 2000000 mUSDC!\n",
      "Signed transaction with txID: ZQ3FHOFPHDURLD27Q54XCJPL6BKYDNCL72GCQDMSYY43FH23TLUQ\n",
      "Confirmed on round 27782731!\n",
      "Bob received 2000000 mUSDT!\n",
      "Signed transaction with txID: FJ56KIGN5BOUHDMW6H7J5QIHFV3P6QX6CKGEST4W2ALDVFEUSWKQ\n",
      "Confirmed on round 27782733!\n",
      "Carol received 2000000 mUSDT!\n"
     ]
    }
   ],
   "source": [
    "# Transfer\n",
    "asset_amount = 2e12\n",
    "\n",
    "submit_transaction(alice_private_key, transaction.AssetTransferTxn(\n",
    "    alice_address, sp_func(), bob_address, int(asset_amount), usdc_index\n",
    ")); print(\"Bob received %d mUSDC!\" % (asset_amount / 1e6))\n",
    "\n",
    "submit_transaction(alice_private_key, transaction.AssetTransferTxn(\n",
    "    alice_address, sp_func(), carol_address, int(asset_amount), usdc_index\n",
    ")); print(\"Carol received %d mUSDC!\" % (asset_amount / 1e6))\n",
    "\n",
    "submit_transaction(alice_private_key, transaction.AssetTransferTxn(\n",
    "    alice_address, sp_func(), bob_address, int(asset_amount), usdt_index\n",
    ")); print(\"Bob received %d mUSDT!\" % (asset_amount / 1e6))\n",
    "\n",
    "submit_transaction(alice_private_key, transaction.AssetTransferTxn(\n",
    "    alice_address, sp_func(), carol_address, int(asset_amount), usdt_index\n",
    ")); print(\"Carol received %d mUSDT!\" % (asset_amount / 1e6))"
   ]
  },
  {
   "cell_type": "code",
   "execution_count": null,
   "metadata": {},
   "outputs": [],
   "source": []
  },
  {
   "attachments": {},
   "cell_type": "markdown",
   "metadata": {},
   "source": [
    "## 2. Create Contract"
   ]
  },
  {
   "cell_type": "code",
   "execution_count": 2,
   "metadata": {},
   "outputs": [],
   "source": [
    "usdc_index = 159625952\n",
    "usdt_index = 159625960\n",
    "\n",
    "import base64\n",
    "from base64 import b64encode as en64\n",
    "from base64 import b64decode as de64\n",
    "import sys\n",
    "sys.path.append('../contract')\n",
    "from typing import List\n",
    "\n",
    "def submit_transaction(private_key: str, unsigned_txn: transaction.Transaction):\n",
    "    signed_txn = unsigned_txn.sign(private_key)\n",
    "    txid = algod_client.send_transaction(signed_txn)\n",
    "    print(\"Signed transaction with txID: {}\".format(txid))\n",
    "    confirmed_txn = transaction.wait_for_confirmation(algod_client, txid, 3)\n",
    "    print(\"Confirmed on round {}!\".format(confirmed_txn['confirmed-round']))\n",
    "    transaction_response = algod_client.pending_transaction_info(txid)\n",
    "    return transaction_response\n",
    "    \n",
    "def submit_transaction_group(private_key: str, unsigned_txns: List[transaction.Transaction]):\n",
    "    gid = transaction.calculate_group_id(unsigned_txns)\n",
    "    signed_txns = []\n",
    "    for unsigned in unsigned_txns:\n",
    "        unsigned.group = gid\n",
    "        signed = unsigned.sign(private_key)\n",
    "        signed_txns.append(signed)\n",
    "    gtxid = algod_client.send_transactions(signed_txns)\n",
    "    print(\"Signed transaction group with gtxID: {}\".format(gtxid))\n",
    "    confirmed_txn = transaction.wait_for_confirmation(algod_client, gtxid, 3)\n",
    "    print(\"Confirmed on round {}!\".format(confirmed_txn['confirmed-round']))\n",
    "    transaction_response = algod_client.pending_transaction_info(gtxid)\n",
    "    return transaction_response\n",
    "\n",
    "def compile_program(client, source_code):\n",
    "    compile_response = client.compile(source_code)\n",
    "    return base64.b64decode(compile_response['result'])\n",
    "\n",
    "blank_program = compile_program(algod_client, compileTeal(\n",
    "    Approve(), Mode.Application, version=8\n",
    "))"
   ]
  },
  {
   "attachments": {},
   "cell_type": "markdown",
   "metadata": {},
   "source": [
    "### 2.1 MesonSwap"
   ]
  },
  {
   "cell_type": "code",
   "execution_count": 3,
   "metadata": {},
   "outputs": [
    {
     "name": "stdout",
     "output_type": "stream",
     "text": [
      "Signed transaction with txID: E5BX5X7LQEVZBMWJFAWKY7SUXV2RU7MSRXDPTHFZROW2TNHDPO4A\n",
      "Confirmed on round 27841520!\n",
      "Create MesonSwap success! App id: 159854507, App Address: A4VCUJKIXTWUNY2DPTLBSVGXL7OQK4QQVVGLZMKXR3OXOZPHNQW5AJ5JNQ\n",
      "\n",
      "Signed transaction with txID: TR5BKCME5HY4BQFJRC4DKQWHML34CKWQ6OGW22XNTRIO7IIRBVYA\n",
      "Confirmed on round 27841522!\n",
      "Transfer $ALGO to application address success!\n",
      "App   A4VCUJKIXTWUNY2DPTLBSVGXL7OQK4QQVVGLZMKXR3OXOZPHNQW5AJ5JNQ Balance: 0.4 $ALGO\n",
      "\n"
     ]
    }
   ],
   "source": [
    "# Create app and save some $ALGO\n",
    "from MesonSwap import mesonSwapMainFunc\n",
    "\n",
    "meson_swap = compile_program(algod_client, teal_sentences := compileTeal(\n",
    "    mesonSwapMainFunc(), Mode.Application, version=8\n",
    "))\n",
    "create_app_tx = submit_transaction(alice_private_key, transaction.ApplicationCreateTxn(\n",
    "    alice_address, sp_func(), on_complete_param, meson_swap, blank_program,\n",
    "    transaction.StateSchema(12, 0), transaction.StateSchema(4, 0)       # todo: add variable nums\n",
    "))\n",
    "print(\"Create MesonSwap success! App id: %s, App Address: %s\\n\" % (\n",
    "    mesonswap_index := create_app_tx['application-index'],\n",
    "    mesonswap_address := logic.get_application_address(mesonswap_index)\n",
    "))\n",
    "\n",
    "send_amount = 400_000\n",
    "transfer_algo_to_app_tx = submit_transaction(alice_private_key, transaction.PaymentTxn(\n",
    "    alice_address, sp_func(), mesonswap_address, send_amount,\n",
    "))\n",
    "print(\"Transfer $ALGO to application address success!\")\n",
    "print(\"App   {} Balance: {} $ALGO\\n\".format(mesonswap_address, \n",
    "                algod_client.account_info(mesonswap_address).get('amount') / 1e6))\n",
    "\n",
    "# Add USDC and USDT\n",
    "submit_transaction(alice_private_key, transaction.ApplicationCallTxn(\n",
    "    alice_address, sp_func(), mesonswap_index, on_complete_param,\n",
    "    app_args=['addSupportToken', 1], foreign_assets=[usdc_index]\n",
    "))\n",
    "print(\"Mesonswap Optin USDC success!\\n\")\n",
    "submit_transaction(alice_private_key, transaction.ApplicationCallTxn(\n",
    "    alice_address, sp_func(), mesonswap_index, on_complete_param,\n",
    "    app_args=['addSupportToken', 2], foreign_assets=[usdt_index]\n",
    "))\n",
    "print(\"Mesonswap Optin USDT success!\\n\")"
   ]
  },
  {
   "cell_type": "code",
   "execution_count": null,
   "metadata": {},
   "outputs": [],
   "source": []
  },
  {
   "attachments": {},
   "cell_type": "markdown",
   "metadata": {},
   "source": [
    "### 2.2 MesonPools"
   ]
  },
  {
   "cell_type": "code",
   "execution_count": 5,
   "metadata": {},
   "outputs": [
    {
     "name": "stdout",
     "output_type": "stream",
     "text": [
      "Signed transaction with txID: YAK5B3HVLO7L6ZCHNN7NFVON73E5BUW4557M66ZVHXJ5JHLMI4DA\n",
      "Confirmed on round 27854024!\n",
      "Create MesonPools success! App id: 160111810, App Address: YKUQHRBQKMATNCWTZ2O3AR5JIEWH5RUDTIH6NZR6MDYUWZRWIE4V5RET7M\n",
      "\n",
      "Signed transaction with txID: RHMUQP6YCVGPJMQN4EF5RQSHKSVUISYEMWDVT4BKNX624ESY6IRA\n",
      "Confirmed on round 27854026!\n",
      "Transfer $ALGO to application address success!\n",
      "App   YKUQHRBQKMATNCWTZ2O3AR5JIEWH5RUDTIH6NZR6MDYUWZRWIE4V5RET7M Balance: 0.4 $ALGO\n",
      "\n",
      "Signed transaction with txID: XC5VTVFFFQPUVM3SHFISECW7F4LPTCGOARQQNXM73SAHBHU2ASTQ\n",
      "Confirmed on round 27854028!\n",
      "Mesonpools Optin USDC success!\n",
      "\n",
      "Signed transaction with txID: 7QGZV7IEHURWTLH6IK5OHKA6ABZ4XSX6SACOZSJK24NPKS5UAOXA\n",
      "Confirmed on round 27854030!\n",
      "Mesonpools Optin USDT success!\n",
      "\n"
     ]
    }
   ],
   "source": [
    "# Create app and save some $ALGO\n",
    "from MesonPools import mesonPoolsMainFunc\n",
    "\n",
    "meson_pools = compile_program(algod_client, teal_sentences := compileTeal(\n",
    "    mesonPoolsMainFunc(), Mode.Application, version=8\n",
    "))\n",
    "create_app_tx = submit_transaction(alice_private_key, transaction.ApplicationCreateTxn(\n",
    "    alice_address, sp_func(), on_complete_param, meson_pools, blank_program,\n",
    "    transaction.StateSchema(12, 0), transaction.StateSchema(4, 0)       # todo: add variable nums\n",
    "))\n",
    "print(\"Create MesonPools success! App id: %s, App Address: %s\\n\" % (\n",
    "    mesonpools_index := create_app_tx['application-index'],\n",
    "    mesonpools_address := logic.get_application_address(mesonpools_index)\n",
    "))\n",
    "\n",
    "send_amount = 400_000\n",
    "transfer_algo_to_app_tx = submit_transaction(alice_private_key, transaction.PaymentTxn(\n",
    "    alice_address, sp_func(), mesonpools_address, send_amount,\n",
    "))\n",
    "print(\"Transfer $ALGO to application address success!\")\n",
    "print(\"App   {} Balance: {} $ALGO\\n\".format(mesonpools_address, \n",
    "                algod_client.account_info(mesonpools_address).get('amount') / 1e6))\n",
    "\n",
    "# Add USDC and USDT\n",
    "submit_transaction(alice_private_key, transaction.ApplicationCallTxn(\n",
    "    alice_address, sp_func(), mesonpools_index, on_complete_param,\n",
    "    app_args=['addSupportToken', 1], foreign_assets=[usdc_index]\n",
    "))\n",
    "print(\"Mesonpools Optin USDC success!\\n\")\n",
    "submit_transaction(alice_private_key, transaction.ApplicationCallTxn(\n",
    "    alice_address, sp_func(), mesonpools_index, on_complete_param,\n",
    "    app_args=['addSupportToken', 2], foreign_assets=[usdt_index]\n",
    "))\n",
    "print(\"Mesonpools Optin USDT success!\\n\")"
   ]
  },
  {
   "cell_type": "code",
   "execution_count": null,
   "metadata": {},
   "outputs": [],
   "source": []
  },
  {
   "attachments": {},
   "cell_type": "markdown",
   "metadata": {},
   "source": [
    "## 3. LP deposit some assets"
   ]
  },
  {
   "attachments": {},
   "cell_type": "markdown",
   "metadata": {},
   "source": [
    "### 3.1 LP Opt in Meson Pools"
   ]
  },
  {
   "cell_type": "code",
   "execution_count": 10,
   "metadata": {},
   "outputs": [
    {
     "name": "stdout",
     "output_type": "stream",
     "text": [
      "Signed transaction with txID: 6RAPTSXGSBMRSSZUBBKMRDOPU4JYZGDYTSQOYK4UNR6IFQSTLQTA\n",
      "Confirmed on round 27854041!\n",
      "LP(Bob) opt in MesonPools app success!\n"
     ]
    }
   ],
   "source": [
    "submit_transaction(bob_private_key, transaction.ApplicationOptInTxn(\n",
    "    bob_address, sp_func(), mesonpools_index\n",
    "))\n",
    "print(\"LP(Bob) opt in MesonPools app success!\")"
   ]
  },
  {
   "attachments": {},
   "cell_type": "markdown",
   "metadata": {},
   "source": [
    "### 3.2 LP Deposit"
   ]
  },
  {
   "cell_type": "code",
   "execution_count": 11,
   "metadata": {},
   "outputs": [
    {
     "name": "stdout",
     "output_type": "stream",
     "text": [
      "Signed transaction group with gtxID: M3T3JNQV6QFWSOLMGY2ZP6L3GPWCUZZSEAPSEEVP2FIZRCFBIMQQ\n",
      "Confirmed on round 27854043!\n",
      "LP(Bob) deposit 120 mUSDC into MesonPools!\n",
      "\n",
      "Signed transaction group with gtxID: HAWE64LK72357P6RB622YDYPDBGWU6BH6K7VPSGVGZ7ADHQPASWQ\n",
      "Confirmed on round 27854045!\n",
      "LP(Bob) deposit 120 mUSDT into MesonPools!\n",
      "\n",
      "LP(Bob) balance:\n",
      "Asset 159625952: 120\n",
      "Asset 159625960: 120\n"
     ]
    }
   ],
   "source": [
    "amount_deposit = 120 * 1_000_000\n",
    "\n",
    "submit_transaction_group(bob_private_key, [\n",
    "    transaction.ApplicationCallTxn(\n",
    "        bob_address, sp_func(), mesonpools_index, on_complete_param,\n",
    "        app_args=['deposit', 120_000_000],\n",
    "        foreign_assets=[usdc_index],\n",
    "    ), \n",
    "    transaction.AssetTransferTxn(\n",
    "        bob_address, sp_func(), mesonpools_address, amount_deposit, usdc_index,\n",
    "    )\n",
    "])\n",
    "print(\"LP(Bob) deposit %d mUSDC into MesonPools!\\n\" % (amount_deposit // 1e6))\n",
    "\n",
    "submit_transaction_group(bob_private_key, [\n",
    "    transaction.ApplicationCallTxn(\n",
    "        bob_address, sp_func(), mesonpools_index, on_complete_param,\n",
    "        app_args=['deposit', 120_000_000],\n",
    "        foreign_assets=[usdt_index],\n",
    "    ), \n",
    "    transaction.AssetTransferTxn(\n",
    "        bob_address, sp_func(), mesonpools_address, amount_deposit, usdt_index,\n",
    "    )\n",
    "])\n",
    "print(\"LP(Bob) deposit %d mUSDT into MesonPools!\\n\" % (amount_deposit // 1e6))\n",
    "\n",
    "returned = indexer_client.lookup_account_application_local_state(bob_address, application_id=mesonpools_index)\n",
    "balances_saved = returned['apps-local-states'][0]['key-value']\n",
    "print(\"LP(Bob) balance:\")\n",
    "for balance in balances_saved:\n",
    "    print(\"Asset %d: %d\" % (int.from_bytes(de64(balance['key'])[8:], 'big'), balance['value']['uint'] / 1e6))"
   ]
  },
  {
   "attachments": {},
   "cell_type": "markdown",
   "metadata": {},
   "source": [
    "### 3.3 LP Withdraw"
   ]
  },
  {
   "cell_type": "code",
   "execution_count": 53,
   "metadata": {},
   "outputs": [
    {
     "name": "stdout",
     "output_type": "stream",
     "text": [
      "Signed transaction with txID: LCCR3UPSGOQTEJPX5OJ3244HF5XNEVY7YZONSYJFHXBEHAIPIPFQ\n",
      "Confirmed on round 27842562!\n",
      "LP(Bob) withdraw 30 mUSDT from MesonPools!\n",
      "\n",
      "LP(Bob) balance:\n",
      "Asset 159625952: 120\n",
      "Asset 159625960: 330\n"
     ]
    }
   ],
   "source": [
    "amount_withdraw = 30 * 1_000_000\n",
    "\n",
    "submit_transaction(bob_private_key, transaction.ApplicationCallTxn(\n",
    "    bob_address, sp_func(), mesonpools_index, on_complete_param,\n",
    "    app_args=['withdraw', amount_withdraw, usdt_index],\n",
    "    foreign_assets=[usdt_index],\n",
    "))\n",
    "print(\"LP(Bob) withdraw %d mUSDT from MesonPools!\\n\" % (amount_withdraw // 1e6))\n",
    "\n",
    "returned = indexer_client.lookup_account_application_local_state(bob_address, application_id=mesonpools_index)\n",
    "balances_saved = returned['apps-local-states'][0]['key-value']\n",
    "print(\"LP(Bob) balance:\")\n",
    "for balance in balances_saved:\n",
    "    print(\"Asset %d: %d\" % (int.from_bytes(de64(balance['key'])[8:], 'big'), balance['value']['uint'] / 1e6))"
   ]
  },
  {
   "cell_type": "code",
   "execution_count": null,
   "metadata": {},
   "outputs": [],
   "source": []
  },
  {
   "attachments": {},
   "cell_type": "markdown",
   "metadata": {},
   "source": [
    "## 4. Start cross-chain swap"
   ]
  },
  {
   "attachments": {},
   "cell_type": "markdown",
   "metadata": {},
   "source": [
    "### 4.0 Build EncodedSwap"
   ]
  },
  {
   "cell_type": "code",
   "execution_count": 3,
   "metadata": {},
   "outputs": [],
   "source": [
    "# origin format: [bytes32]\n",
    "# \\x01\\x00\\x01\\xe8H\\x00\\xc0\\x00\\x00\\x00\\x00\\x00\\xe7U& \\x00\\x00\\x00\\x00\\x00\\x00c\\xd5\\x00B#)\\x02\\x02\\xca\n",
    "# hex format [uint256, hex64]:\n",
    "# (0x)010001e84800c00000000000e755262000000000000063d5004223290202ca22\n",
    "# split values: 0x|01|0001e84800|c00000000000e7552620|0000000000|0063d50042|2329|02|02ca|22\n",
    "# split variables: 0x|version|amount|salt|fee|expireTs|outChain|outToken|inChain|inToken\n",
    "# salt[0xc0, 0b11000000] -> [(0)willTransferToContract, (1)feeWaived, -, -, (1)signNonTyped, -, -, -]\n",
    "\n",
    "def get_expire_ts(delay=90):   # default to 90 minutes\n",
    "    return int(time.time()) + 60*delay\n",
    "\n",
    "def build_encoded(amount: int, expireTs: int, outToken, inToken, \n",
    "                  salt='c00000000000e7552620', fee='0000000000', return_bytes=True):\n",
    "    assert amount < 0x1111111111\n",
    "    version = '01'\n",
    "    amount_string = hex(amount)[2:].rjust(10, '0')\n",
    "    expireTs_string = hex(expireTs)[2:].rjust(10, '0')\n",
    "    outChain = '011b'\n",
    "    inChain = '011b'\n",
    "    encoded_string = ''.join([\n",
    "        '0x', version, amount_string, salt, fee, expireTs_string, outChain, outToken, inChain, inToken\n",
    "    ])\n",
    "    return bytes.fromhex(encoded_string[2:]) if return_bytes else encoded_string\n",
    "\n",
    "'''\n",
    "ZERO_ADDRESS_STR = '00' * 32\n",
    "def build_posted(initiator, enumIndex, lp=ZERO_ADDRESS_STR, return_bytes=True):\n",
    "    assert len(initiator) == len(lp) == 64\n",
    "    posted_string = initiator + lp + enumIndex\n",
    "    return bytes.fromhex(posted_string[2:]) if return_bytes else posted_string\n",
    "'''\n",
    "\n",
    "build_encoded(50_000_000, get_expire_ts(), '02', '01')\n",
    "\n",
    "mesonswap_index = 159854507\n",
    "mesonswap_address = logic.get_application_address(mesonswap_index)\n",
    "mesonpools_index = 160111810\n",
    "mesonpools_address = logic.get_application_address(mesonpools_index)"
   ]
  },
  {
   "cell_type": "code",
   "execution_count": 6,
   "metadata": {},
   "outputs": [
    {
     "name": "stdout",
     "output_type": "stream",
     "text": [
      "Signed transaction with txID: 6FLJ2NKJU3ZSS4OP35NNLMLVOIIQGX5AG5KOQABS7O6YNBP23W7Q\n",
      "Confirmed on round 27853155!\n",
      "Transfer $ALGO to application address success!\n",
      "App   A4VCUJKIXTWUNY2DPTLBSVGXL7OQK4QQVVGLZMKXR3OXOZPHNQW5AJ5JNQ Balance: 0.798 $ALGO\n",
      "\n"
     ]
    }
   ],
   "source": [
    "# Transfer to contract if needed\n",
    "send_amount = 400_000\n",
    "transfer_algo_to_app_tx = submit_transaction(alice_private_key, transaction.PaymentTxn(\n",
    "    alice_address, sp_func(), mesonswap_address, send_amount,\n",
    "))\n",
    "print(\"Transfer $ALGO to application address success!\")\n",
    "print(\"App   {} Balance: {} $ALGO\\n\".format(mesonswap_address, \n",
    "                algod_client.account_info(mesonswap_address).get('amount') / 1e6))"
   ]
  },
  {
   "cell_type": "code",
   "execution_count": 4,
   "metadata": {},
   "outputs": [],
   "source": [
    "amount_transfer = 50 * 1_000_000\n",
    "encodedSwap = build_encoded(amount_transfer, get_expire_ts(), '02', '01')"
   ]
  },
  {
   "attachments": {},
   "cell_type": "markdown",
   "metadata": {},
   "source": [
    "### 4.1 postSwap & bondSwap"
   ]
  },
  {
   "cell_type": "code",
   "execution_count": 5,
   "metadata": {},
   "outputs": [
    {
     "name": "stdout",
     "output_type": "stream",
     "text": [
      "Signed transaction group with gtxID: H7WD32CDZD4HHAYKWNPL2CFMWL6JO2EQUILPQSRRLJRNU45DIXXA\n",
      "Confirmed on round 27864506!\n",
      "Step 1.1. User(Carol) posted swap success!\n",
      "\n"
     ]
    }
   ],
   "source": [
    "submit_transaction_group(carol_private_key, [\n",
    "    transaction.ApplicationCallTxn(\n",
    "        carol_address, sp_func(), mesonswap_index, on_complete_param,\n",
    "        app_args=['postSwap', encodedSwap, 1111, 1111],\n",
    "        boxes=[(mesonswap_index, encodedSwap)]\n",
    "    ),\n",
    "    transaction.AssetTransferTxn(\n",
    "        carol_address, sp_func(), mesonswap_address, amount_transfer, usdc_index\n",
    "    )\n",
    "])\n",
    "print(\"Step 1.1. User(Carol) posted swap success!\\n\")"
   ]
  },
  {
   "cell_type": "code",
   "execution_count": 6,
   "metadata": {},
   "outputs": [
    {
     "name": "stdout",
     "output_type": "stream",
     "text": [
      "Signed transaction with txID: FOCKUGMU4XG4X4ZDOLMHCAYEEN2N52S2MHE2RUSQATP66EUAMEOQ\n",
      "Confirmed on round 27864508!\n",
      "Step 1.2. LP(Bob) Bonded swap success!\n"
     ]
    }
   ],
   "source": [
    "submit_transaction(bob_private_key, transaction.ApplicationCallTxn(\n",
    "    bob_address, sp_func(), mesonswap_index, on_complete_param,\n",
    "    app_args=['bondSwap', encodedSwap],\n",
    "    boxes=[(mesonswap_index, encodedSwap)]\n",
    "))\n",
    "print(\"Step 1.2. LP(Bob) Bonded swap success!\")"
   ]
  },
  {
   "cell_type": "code",
   "execution_count": 7,
   "metadata": {},
   "outputs": [
    {
     "name": "stdout",
     "output_type": "stream",
     "text": [
      "Mesonswap Boxes: \n",
      "[EncodedSwap] 010002faf080c00000000000e755262000000000000063f2e7c5011b02011b01, \n",
      "\t[PostedValue] (57f297ed3f9630d0f3437e591c77d7de8f59e1cecc41a0489a4347c5ca0a12f6, \n",
      "\t\t\t1215b7fe9c7e42924ad0ddca31647726769caed8f5f27c701c5112207658c21e, 01)\n",
      "[EncodedSwap] 010002faf080c00000000000e755262000000000000063f1a542011b02011b01, \n",
      "\t[PostedValue] (57f297ed3f9630d0f3437e591c77d7de8f59e1cecc41a0489a4347c5ca0a12f6, \n",
      "\t\t\t1215b7fe9c7e42924ad0ddca31647726769caed8f5f27c701c5112207658c21e, 01)\n",
      "[EncodedSwap] 010002faf080c00000000000e755262000000000000063f245bf011b02011b01, \n",
      "\t[PostedValue] (57f297ed3f9630d0f3437e591c77d7de8f59e1cecc41a0489a4347c5ca0a12f6, \n",
      "\t\t\t1215b7fe9c7e42924ad0ddca31647726769caed8f5f27c701c5112207658c21e, 01)\n",
      "[EncodedSwap] 010002faf080c00000000000e755262000000000000063f24707011b02011b01, \n",
      "\t[PostedValue] (57f297ed3f9630d0f3437e591c77d7de8f59e1cecc41a0489a4347c5ca0a12f6, \n",
      "\t\t\t1215b7fe9c7e42924ad0ddca31647726769caed8f5f27c701c5112207658c21e, 01)\n"
     ]
    }
   ],
   "source": [
    "print(\"Mesonswap Boxes: \")\n",
    "for name_dict in algod_client.application_boxes(mesonswap_index)['boxes']:\n",
    "    encoded_key = base64.b64decode(name_dict['name'].encode())\n",
    "    value_return = algod_client.application_box_by_name(mesonswap_index, encoded_key)\n",
    "    posted_value = base64.b64decode(value_return['value'])\n",
    "    print('[EncodedSwap] %s, \\n\\t[PostedValue] (%s, \\n\\t\\t\\t%s, %s)' % (encoded_key.hex(), \n",
    "          (p := posted_value.hex())[:64], p[64:128], p[128:]))"
   ]
  },
  {
   "cell_type": "code",
   "execution_count": null,
   "metadata": {},
   "outputs": [],
   "source": []
  },
  {
   "attachments": {},
   "cell_type": "markdown",
   "metadata": {},
   "source": [
    "### 4.2 lock"
   ]
  },
  {
   "cell_type": "code",
   "execution_count": 8,
   "metadata": {},
   "outputs": [
    {
     "data": {
      "text/plain": [
       "b\"FF\\x8bC\\xf6\\xc7\\x80\\xa8T'X\\xe7\\x86\\xb8\\xebn|\\xfe \\xb2\\x1c\\xc8\\x87F_\\x9d\\x96W\\x1bDf \""
      ]
     },
     "execution_count": 8,
     "metadata": {},
     "output_type": "execute_result"
    }
   ],
   "source": [
    "from Crypto.Hash import keccak\n",
    "\n",
    "def get_swapID(encodedSwap, initiator_base32_address, return_bytes=True):\n",
    "    concat = encodedSwap + base64.b32decode(initiator_base32_address + '======')[:-4]\n",
    "    assert len(concat) == 64\n",
    "    keccak_func = keccak.new(digest_bits=256)\n",
    "    hash_value = keccak_func.update(concat).hexdigest()\n",
    "    return bytes.fromhex(hash_value) if return_bytes else hash_value\n",
    "    \n",
    "get_swapID(encodedSwap, carol_address)"
   ]
  },
  {
   "cell_type": "code",
   "execution_count": 12,
   "metadata": {},
   "outputs": [
    {
     "name": "stdout",
     "output_type": "stream",
     "text": [
      "Signed transaction with txID: FIWGWQT67MUD2UHQFU6KRSJZH5NISTLEBSDWSDQV6BCTN4GCBFIQ\n",
      "Confirmed on round 27854050!\n",
      "Step 2. LP(Bob) lock assets success!\n",
      "\n",
      "Mesonpools Boxes: \n",
      "[EncodedSwap] 46468b43f6c780a8542758e786b8eb6e7cfe20b21cc887465f9d96571b446620, \n",
      "\t[LockedValue] (2023-02-19 15:41:46, \n",
      "\t\t\t1215b7fe9c7e42924ad0ddca31647726769caed8f5f27c701c5112207658c21e, 02)\n"
     ]
    }
   ],
   "source": [
    "submit_transaction(bob_private_key, transaction.ApplicationCallTxn(\n",
    "    bob_address, sp_func(), mesonpools_index, on_complete_param,\n",
    "    app_args=['lock', encodedSwap, 1111, 1111],\n",
    "    accounts=[carol_address],\n",
    "    boxes=[(mesonpools_index, get_swapID(encodedSwap, carol_address))]\n",
    "))\n",
    "print(\"Step 2. LP(Bob) lock assets success!\\n\")\n",
    "\n",
    "print(\"Mesonpools Boxes: \")\n",
    "for name_dict in algod_client.application_boxes(mesonpools_index)['boxes']:\n",
    "    swapid_key = base64.b64decode(name_dict['name'].encode())\n",
    "    value_return = algod_client.application_box_by_name(mesonpools_index, swapid_key)\n",
    "    locked_value = base64.b64decode(value_return['value'])\n",
    "    print('[EncodedSwap] %s, \\n\\t[LockedValue] (%s, \\n\\t\\t\\t%s, %s)' % (swapid_key.hex(), \n",
    "          pd.to_datetime(int((p := locked_value.hex())[:10], 16) * 1e9), p[10:74], p[74:]))"
   ]
  },
  {
   "cell_type": "code",
   "execution_count": null,
   "metadata": {},
   "outputs": [],
   "source": []
  },
  {
   "attachments": {},
   "cell_type": "markdown",
   "metadata": {},
   "source": [
    "### 4.3 release"
   ]
  },
  {
   "cell_type": "code",
   "execution_count": 17,
   "metadata": {},
   "outputs": [
    {
     "name": "stdout",
     "output_type": "stream",
     "text": [
      "Signed transaction with txID: 24HR3HDCMPP6N7HK4O7WRI4TY546XHECNYAN7BGP7CQXJ7SZRBYA\n",
      "Confirmed on round 27854073!\n",
      "Step 3. User(Carol) release assets success!\n"
     ]
    }
   ],
   "source": [
    "submit_transaction(carol_private_key, transaction.ApplicationCallTxn(\n",
    "    carol_address, sp_func(), mesonpools_index, on_complete_param,\n",
    "    app_args=['release', encodedSwap, 1111, 1111],\n",
    "    accounts=[carol_address, carol_address],\n",
    "    foreign_assets=[usdt_index],\n",
    "    boxes=[(mesonpools_index, get_swapID(encodedSwap, carol_address))]\n",
    "))\n",
    "print(\"Step 3. User(Carol) release assets success!\")"
   ]
  },
  {
   "cell_type": "code",
   "execution_count": 18,
   "metadata": {},
   "outputs": [
    {
     "name": "stdout",
     "output_type": "stream",
     "text": [
      "Mesonpools Boxes: \n",
      "[EncodedSwap] 46468b43f6c780a8542758e786b8eb6e7cfe20b21cc887465f9d96571b446620, \n",
      "\t[LockedValue] (NaT, \n",
      "\t\t\t1111111111111111111111111111111111111111111111111111111111111111, 11)\n"
     ]
    }
   ],
   "source": [
    "print(\"Mesonpools Boxes: \")\n",
    "for name_dict in algod_client.application_boxes(mesonpools_index)['boxes']:\n",
    "    swapid_key = base64.b64decode(name_dict['name'].encode())\n",
    "    value_return = algod_client.application_box_by_name(mesonpools_index, swapid_key)\n",
    "    locked_value = base64.b64decode(value_return['value'])\n",
    "    print('[EncodedSwap] %s, \\n\\t[LockedValue] (%s, \\n\\t\\t\\t%s, %s)' % (swapid_key.hex(), \n",
    "          pd.to_datetime(int((p := locked_value.hex())[:10], 16) * 1e9), p[10:74], p[74:]))"
   ]
  },
  {
   "cell_type": "code",
   "execution_count": null,
   "metadata": {},
   "outputs": [],
   "source": []
  },
  {
   "attachments": {},
   "cell_type": "markdown",
   "metadata": {},
   "source": [
    "### 4.4 executeSwap"
   ]
  },
  {
   "cell_type": "code",
   "execution_count": 11,
   "metadata": {},
   "outputs": [
    {
     "name": "stdout",
     "output_type": "stream",
     "text": [
      "Signed transaction with txID: UCZGGA7HXH4YZNLIOA5WRBP7TKYD6G6B5NDK4Y5RUSPCAZ6XOLBQ\n",
      "Confirmed on round 27864561!\n",
      "Step 4. LP(Bob) executeSwap success!\n"
     ]
    }
   ],
   "source": [
    "submit_transaction(bob_private_key, transaction.ApplicationCallTxn(\n",
    "    bob_address, sp_func(), mesonswap_index, on_complete_param,\n",
    "    app_args=['executeSwap', encodedSwap, 1111, 1111, 0],\n",
    "    accounts=[carol_address],\n",
    "    foreign_assets=[usdc_index],\n",
    "    boxes=[(mesonswap_index, encodedSwap)]\n",
    "))\n",
    "print(\"Step 4. LP(Bob) executeSwap success!\")"
   ]
  },
  {
   "cell_type": "code",
   "execution_count": 12,
   "metadata": {},
   "outputs": [
    {
     "name": "stdout",
     "output_type": "stream",
     "text": [
      "Mesonswap Boxes: \n",
      "[EncodedSwap] 010002faf080c00000000000e755262000000000000063f245bf011b02011b01, \n",
      "\t[PostedValue] (57f297ed3f9630d0f3437e591c77d7de8f59e1cecc41a0489a4347c5ca0a12f6, \n",
      "\t\t\t1215b7fe9c7e42924ad0ddca31647726769caed8f5f27c701c5112207658c21e, 01)\n",
      "[EncodedSwap] 010002faf080c00000000000e755262000000000000063f24707011b02011b01, \n",
      "\t[PostedValue] (57f297ed3f9630d0f3437e591c77d7de8f59e1cecc41a0489a4347c5ca0a12f6, \n",
      "\t\t\t1215b7fe9c7e42924ad0ddca31647726769caed8f5f27c701c5112207658c21e, 01)\n",
      "[EncodedSwap] 010002faf080c00000000000e755262000000000000063f2e7c5011b02011b01, \n",
      "\t[PostedValue] (1111111111111111111111111111111111111111111111111111111111111111, \n",
      "\t\t\t1111111111111111111111111111111111111111111111111111111111111111, 11)\n",
      "[EncodedSwap] 010002faf080c00000000000e755262000000000000063f1a542011b02011b01, \n",
      "\t[PostedValue] (57f297ed3f9630d0f3437e591c77d7de8f59e1cecc41a0489a4347c5ca0a12f6, \n",
      "\t\t\t1215b7fe9c7e42924ad0ddca31647726769caed8f5f27c701c5112207658c21e, 01)\n"
     ]
    }
   ],
   "source": [
    "print(\"Mesonswap Boxes: \")\n",
    "for name_dict in algod_client.application_boxes(mesonswap_index)['boxes']:\n",
    "    encoded_key = base64.b64decode(name_dict['name'].encode())\n",
    "    value_return = algod_client.application_box_by_name(mesonswap_index, encoded_key)\n",
    "    posted_value = base64.b64decode(value_return['value'])\n",
    "    print('[EncodedSwap] %s, \\n\\t[PostedValue] (%s, \\n\\t\\t\\t%s, %s)' % (encoded_key.hex(), \n",
    "          (p := posted_value.hex())[:64], p[64:128], p[128:]))"
   ]
  },
  {
   "cell_type": "code",
   "execution_count": 14,
   "metadata": {},
   "outputs": [
    {
     "data": {
      "text/plain": [
       "('K7ZJP3J7SYYNB42DPZMRY56X32HVTYOOZRA2ASE2IND4LSQKCL3CE2Z2YU',\n",
       " 'CIK3P7U4PZBJESWQ3XFDCZDXEZ3JZLWY6XZHY4A4KEJCA5SYYIPBT6W7Y4')"
      ]
     },
     "execution_count": 14,
     "metadata": {},
     "output_type": "execute_result"
    }
   ],
   "source": [
    "carol_address, bob_address"
   ]
  },
  {
   "cell_type": "code",
   "execution_count": null,
   "metadata": {},
   "outputs": [],
   "source": []
  }
 ],
 "metadata": {
  "kernelspec": {
   "display_name": "algorand",
   "language": "python",
   "name": "python3"
  },
  "language_info": {
   "codemirror_mode": {
    "name": "ipython",
    "version": 3
   },
   "file_extension": ".py",
   "mimetype": "text/x-python",
   "name": "python",
   "nbconvert_exporter": "python",
   "pygments_lexer": "ipython3",
   "version": "3.10.8"
  },
  "orig_nbformat": 4,
  "vscode": {
   "interpreter": {
    "hash": "ba3450cde5b05b5197a9eb5fde5fb055163ecc9b5ff443221fad328eb2bb5ad5"
   }
  }
 },
 "nbformat": 4,
 "nbformat_minor": 2
}
